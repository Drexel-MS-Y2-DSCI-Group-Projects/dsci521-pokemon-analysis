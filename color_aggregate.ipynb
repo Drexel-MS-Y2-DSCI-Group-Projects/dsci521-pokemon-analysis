{
 "cells": [
  {
   "cell_type": "code",
   "execution_count": 78,
   "metadata": {},
   "outputs": [],
   "source": [
    "import json\n",
    "from collections import Counter\n",
    "from PIL import ImageColor\n",
    "from scipy.spatial import KDTree\n",
    "from webcolors import (\n",
    "    CSS3_HEX_TO_NAMES,\n",
    "    hex_to_rgb,\n",
    ")\n",
    "\n",
    "with open('merged.json') as p:\n",
    "    data = json.load(p)"
   ]
  },
  {
   "cell_type": "code",
   "execution_count": null,
   "metadata": {},
   "outputs": [],
   "source": [
    "css3_db = CSS3_HEX_TO_NAMES\n",
    "\n",
    "# Function to get the color name from an RGB value\n",
    "def convert_rgb_to_names(rgb_tuple):\n",
    "    \n",
    "    # a dictionary of all the hex and their respective names in css3\n",
    "    names = []\n",
    "    rgb_values = []    \n",
    "    for color_hex, color_name in css3_db.items():\n",
    "        names.append(color_name)\n",
    "        rgb_values.append(hex_to_rgb(color_hex))\n",
    "    \n",
    "    kdt_db = KDTree(rgb_values)    \n",
    "    distance, index = kdt_db.query(rgb_tuple)\n",
    "    return names[index]"
   ]
  },
  {
   "cell_type": "code",
   "execution_count": 139,
   "metadata": {},
   "outputs": [],
   "source": [
    "def remake_pokemon_json(data, use_main_color = False):\n",
    "    new_dict = []\n",
    "    for dex_num, poke in data.items():\n",
    "        new_poke_dict = dict()\n",
    "        color_names = set()\n",
    "\n",
    "        for color in poke['colors']:\n",
    "            color_rgb = ImageColor.getcolor(color, \"RGB\")\n",
    "            color_name = convert_rgb_to_names(color_rgb)\n",
    "\n",
    "            color_names.add(color_name)\n",
    "\n",
    "\n",
    "        new_poke_dict['id'] = dex_num\n",
    "\n",
    "        try:\n",
    "            new_poke_dict['name'] = poke['name']\n",
    "        except:\n",
    "            new_poke_dict['name'] = ''\n",
    "\n",
    "        new_poke_dict['types'] = poke['types']\n",
    "\n",
    "        try:\n",
    "            new_poke_dict['main_color'] = poke['color']\n",
    "        except:\n",
    "            new_poke_dict['main_color'] = ''\n",
    "\n",
    "        if (use_main_color and new_poke_dict['main_color'] != ''):           \n",
    "            color_names.add(new_poke_dict['main_color'])\n",
    "\n",
    "        new_poke_dict['colors'] = list(color_names)\n",
    "        new_poke_dict['colors'].sort()\n",
    "\n",
    "        new_dict.append(new_poke_dict)\n",
    "\n",
    "    return new_dict"
   ]
  },
  {
   "cell_type": "code",
   "execution_count": 140,
   "metadata": {},
   "outputs": [],
   "source": [
    "new_poke_dict = remake_pokemon_json(data, use_main_color=True)"
   ]
  },
  {
   "cell_type": "code",
   "execution_count": 141,
   "metadata": {},
   "outputs": [
    {
     "name": "stdout",
     "output_type": "stream",
     "text": [
      "{'id': '001', 'name': 'bulbasaur', 'types': ['Grass', 'Poison'], 'main_color': 'green', 'colors': ['black', 'darkseagreen', 'gray', 'green', 'white']}\n",
      "{'id': '111', 'name': 'rhyhorn', 'types': ['Ground', 'Rock'], 'main_color': 'gray', 'colors': ['black', 'darkgray', 'darkslategray', 'dimgray', 'gray', 'white']}\n",
      "{'id': '271', 'name': 'lombre', 'types': ['Water', 'Grass'], 'main_color': 'green', 'colors': ['black', 'darkkhaki', 'green', 'olivedrab', 'silver', 'white']}\n"
     ]
    }
   ],
   "source": [
    "print(new_poke_dict[0])\n",
    "print(new_poke_dict[110])\n",
    "print(new_poke_dict[270])"
   ]
  },
  {
   "cell_type": "code",
   "execution_count": 136,
   "metadata": {},
   "outputs": [
    {
     "data": {
      "text/plain": [
       "[('white', 790),\n",
       " ('black', 605),\n",
       " ('darkslategray', 388),\n",
       " ('dimgray', 284),\n",
       " ('gray', 245),\n",
       " ('blue', 157),\n",
       " ('silver', 157),\n",
       " ('darkgray', 157),\n",
       " ('brown', 145),\n",
       " ('indianred', 112)]"
      ]
     },
     "execution_count": 136,
     "metadata": {},
     "output_type": "execute_result"
    }
   ],
   "source": [
    "hex_codes = []\n",
    "\n",
    "for poke in new_poke_dict:\n",
    "    color_list = poke['colors']\n",
    "    hex_codes.extend(color_list)\n",
    "\n",
    "hex_codes_count = Counter(hex_codes)\n",
    "\n",
    "hex_codes_count.most_common(10)"
   ]
  },
  {
   "cell_type": "code",
   "execution_count": 98,
   "metadata": {},
   "outputs": [
    {
     "data": {
      "text/plain": [
       "[(('Normal',), 69),\n",
       " (('Water',), 67),\n",
       " (('Grass',), 43),\n",
       " (('Psychic',), 37),\n",
       " (('Fire',), 33),\n",
       " (('Electric',), 32),\n",
       " (('Fighting',), 27),\n",
       " (('Normal', 'Flying'), 26),\n",
       " (('Bug',), 19),\n",
       " (('Fairy',), 18)]"
      ]
     },
     "execution_count": 98,
     "metadata": {},
     "output_type": "execute_result"
    }
   ],
   "source": [
    "typings = []\n",
    "\n",
    "for poke in new_poke_dict:\n",
    "    if len(poke['types']) > 1:\n",
    "        type_tuple = (poke['types'][0], poke['types'][1])\n",
    "    else:\n",
    "        type_tuple = (poke['types'][0],)\n",
    "    \n",
    "    typings.append(type_tuple)\n",
    "\n",
    "typings_count = Counter(typings)\n",
    "\n",
    "typings_count.most_common(10)"
   ]
  },
  {
   "cell_type": "code",
   "execution_count": 114,
   "metadata": {},
   "outputs": [],
   "source": [
    "import networkx as nx\n",
    "\n",
    "def create_pokemon_graph(data, key):\n",
    "\n",
    "    #--- Your code starts here\n",
    "    graph = nx.Graph()\n",
    "\n",
    "    nodes = []\n",
    "    edges = []\n",
    "    for pokemon in data:\n",
    "        for node in pokemon[key]:\n",
    "            nodes.append(node)\n",
    "            for item in pokemon[key]:\n",
    "                edges.append((item, node))\n",
    "\n",
    "    graph.add_nodes_from(nodes)\n",
    "    graph.add_edges_from(edges)\n",
    "\n",
    "    return graph"
   ]
  },
  {
   "cell_type": "code",
   "execution_count": 115,
   "metadata": {},
   "outputs": [
    {
     "name": "stdout",
     "output_type": "stream",
     "text": [
      "('black', 'black')\n",
      "('black', 'darkseagreen')\n",
      "('black', 'gray')\n",
      "('black', 'white')\n",
      "('black', 'mediumaquamarine')\n",
      "('black', 'palevioletred')\n",
      "('black', 'slategray')\n",
      "('black', 'cadetblue')\n",
      "('black', 'seagreen')\n",
      "('black', 'snow')\n",
      "('black', 'bisque')\n",
      "('black', 'burlywood')\n",
      "('black', 'rosybrown')\n",
      "('black', 'chocolate')\n",
      "('black', 'salmon')\n",
      "('black', 'wheat')\n",
      "('black', 'skyblue')\n",
      "('black', 'tan')\n",
      "('black', 'dimgray')\n",
      "('black', 'silver')\n",
      "('black', 'khaki')\n",
      "('black', 'peru')\n",
      "('black', 'darkkhaki')\n",
      "('black', 'olivedrab')\n",
      "('black', 'yellowgreen')\n",
      "('black', 'ghostwhite')\n",
      "('black', 'indianred')\n",
      "('black', 'lightgray')\n",
      "('black', 'darkolivegreen')\n",
      "('black', 'gainsboro')\n",
      "('black', 'sandybrown')\n",
      "('black', 'sienna')\n",
      "('black', 'palegoldenrod')\n",
      "('black', 'coral')\n",
      "('black', 'darkgray')\n",
      "('black', 'darksalmon')\n",
      "('black', 'plum')\n",
      "('black', 'saddlebrown')\n",
      "('black', 'lightsteelblue')\n",
      "('black', 'teal')\n",
      "('black', 'mistyrose')\n",
      "('black', 'antiquewhite')\n",
      "('black', 'pink')\n",
      "('black', 'forestgreen')\n",
      "('black', 'steelblue')\n",
      "('black', 'darkslateblue')\n",
      "('black', 'lightslategray')\n",
      "('black', 'darkslategray')\n",
      "('black', 'lavender')\n",
      "('black', 'goldenrod')\n",
      "('black', 'brown')\n",
      "('black', 'lightpink')\n",
      "('black', 'thistle')\n",
      "('black', 'mediumseagreen')\n",
      "('black', 'mintcream')\n",
      "('black', 'tomato')\n",
      "('black', 'mediumpurple')\n",
      "('black', 'cornflowerblue')\n",
      "('black', 'beige')\n",
      "('black', 'mediumturquoise')\n",
      "('black', 'lightblue')\n",
      "('black', 'lightcoral')\n",
      "('black', 'peachpuff')\n",
      "('black', 'darkturquoise')\n",
      "('black', 'navajowhite')\n",
      "('black', 'blanchedalmond')\n",
      "('black', 'lightseagreen')\n",
      "('black', 'powderblue')\n",
      "('black', 'firebrick')\n",
      "('black', 'lightgoldenrodyellow')\n",
      "('black', 'whitesmoke')\n",
      "('black', 'floralwhite')\n",
      "('black', 'paleturquoise')\n",
      "('black', 'papayawhip')\n",
      "('black', 'darkcyan')\n",
      "('black', 'dodgerblue')\n",
      "('black', 'midnightblue')\n"
     ]
    }
   ],
   "source": [
    "pokemon_color_graph = create_pokemon_graph(new_poke_dict, 'colors')\n",
    "\n",
    "for edge in pokemon_color_graph.edges:\n",
    "    if (edge[0] == 'black'):\n",
    "        print(edge)"
   ]
  },
  {
   "cell_type": "code",
   "execution_count": 109,
   "metadata": {},
   "outputs": [
    {
     "data": {
      "text/plain": [
       "[((('Normal',), 'white'), 62),\n",
       " ((('Normal',), 'black'), 53),\n",
       " ((('Water',), 'white'), 50),\n",
       " ((('Water',), 'black'), 44),\n",
       " ((('Grass',), 'white'), 37),\n",
       " ((('Psychic',), 'white'), 36),\n",
       " ((('Grass',), 'black'), 35),\n",
       " ((('Fire',), 'white'), 31),\n",
       " ((('Water',), 'darkslategray'), 26),\n",
       " ((('Electric',), 'white'), 25),\n",
       " ((('Fighting',), 'white'), 25),\n",
       " ((('Psychic',), 'black'), 25),\n",
       " ((('Normal', 'Flying'), 'white'), 23),\n",
       " ((('Normal',), 'dimgray'), 23),\n",
       " ((('Normal',), 'darkslategray'), 21),\n",
       " ((('Fire',), 'black'), 20),\n",
       " ((('Normal',), 'gray'), 20),\n",
       " ((('Normal', 'Flying'), 'darkslategray'), 20),\n",
       " ((('Fighting',), 'darkslategray'), 18),\n",
       " ((('Normal',), 'rosybrown'), 18),\n",
       " ((('Normal',), 'darkgray'), 17),\n",
       " ((('Electric',), 'black'), 17),\n",
       " ((('Electric',), 'darkslategray'), 17),\n",
       " ((('Water',), 'dimgray'), 16),\n",
       " ((('Poison',), 'white'), 16),\n",
       " ((('Fire',), 'darkslategray'), 16),\n",
       " ((('Grass',), 'dimgray'), 16),\n",
       " ((('Grass',), 'darkseagreen'), 16),\n",
       " ((('Water',), 'skyblue'), 15),\n",
       " ((('Water',), 'silver'), 15),\n",
       " ((('Bug',), 'black'), 15),\n",
       " ((('Bug',), 'white'), 15),\n",
       " ((('Ground',), 'black'), 15),\n",
       " ((('Fairy',), 'white'), 15),\n",
       " ((('Water',), 'snow'), 15),\n",
       " ((('Normal', 'Flying'), 'black'), 14),\n",
       " ((('Poison',), 'black'), 14),\n",
       " ((('Ground',), 'white'), 14),\n",
       " ((('Psychic',), 'darkslategray'), 14),\n",
       " ((('Ghost',), 'white'), 13),\n",
       " ((('Grass', 'Poison'), 'black'), 12),\n",
       " ((('Water',), 'steelblue'), 12),\n",
       " ((('Dragon',), 'white'), 12),\n",
       " ((('Rock',), 'white'), 12),\n",
       " ((('Water',), 'cadetblue'), 11),\n",
       " ((('Bug', 'Poison'), 'white'), 11),\n",
       " ((('Electric',), 'dimgray'), 11),\n",
       " ((('Fighting',), 'black'), 11),\n",
       " ((('Dragon',), 'black'), 11),\n",
       " ((('Grass',), 'darkkhaki'), 11)]"
      ]
     },
     "execution_count": 109,
     "metadata": {},
     "output_type": "execute_result"
    }
   ],
   "source": [
    "color_type_combos = []\n",
    "\n",
    "skip_white = False\n",
    "\n",
    "for poke in new_poke_dict:\n",
    "    for color in poke['colors']:\n",
    "        if len(poke['types']) > 1:\n",
    "            type_tuple = (poke['types'][0], poke['types'][1])\n",
    "        else:\n",
    "            type_tuple = (poke['types'][0],)\n",
    "\n",
    "        if (color != 'white' or not skip_white):\n",
    "            combo_tuple = (type_tuple, color)\n",
    "            color_type_combos.append(combo_tuple)\n",
    "\n",
    "combo_counter = Counter(color_type_combos)\n",
    "\n",
    "combo_counter.most_common(50)"
   ]
  }
 ],
 "metadata": {
  "interpreter": {
   "hash": "63fd5069d213b44bf678585dea6b12cceca9941eaf7f819626cde1f2670de90d"
  },
  "kernelspec": {
   "display_name": "Python 3.9.0 64-bit",
   "language": "python",
   "name": "python3"
  },
  "language_info": {
   "codemirror_mode": {
    "name": "ipython",
    "version": 3
   },
   "file_extension": ".py",
   "mimetype": "text/x-python",
   "name": "python",
   "nbconvert_exporter": "python",
   "pygments_lexer": "ipython3",
   "version": "3.9.0"
  },
  "orig_nbformat": 4
 },
 "nbformat": 4,
 "nbformat_minor": 2
}
