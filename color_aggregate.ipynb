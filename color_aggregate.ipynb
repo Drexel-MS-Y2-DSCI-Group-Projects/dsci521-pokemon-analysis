{
 "cells": [
  {
   "cell_type": "code",
   "execution_count": 1,
   "metadata": {},
   "outputs": [],
   "source": [
    "import json\n",
    "from collections import Counter\n",
    "\n",
    "with open('merged.json') as p:\n",
    "    data = json.load(p)"
   ]
  },
  {
   "cell_type": "code",
   "execution_count": 4,
   "metadata": {},
   "outputs": [
    {
     "data": {
      "text/plain": [
       "[('#fefefe', 584),\n",
       " ('#fdfdfd', 54),\n",
       " ('#fefefd', 49),\n",
       " ('#fdfdfe', 25),\n",
       " ('#fdfdfc', 15)]"
      ]
     },
     "execution_count": 4,
     "metadata": {},
     "output_type": "execute_result"
    }
   ],
   "source": [
    "poke_array = []\n",
    "\n",
    "for poke in data.items():\n",
    "    poke_array.append(poke[1])\n",
    "\n",
    "hex_codes = []\n",
    "\n",
    "for poke in data.values():\n",
    "    color_list = poke['colors']\n",
    "    hex_codes.extend(color_list)\n",
    "\n",
    "hex_codes_count = Counter(hex_codes)\n",
    "\n",
    "hex_codes_count.most_common(5)"
   ]
  },
  {
   "cell_type": "code",
   "execution_count": 11,
   "metadata": {},
   "outputs": [
    {
     "data": {
      "text/plain": [
       "[('Normal', 69),\n",
       " ('Water', 67),\n",
       " ('Grass', 43),\n",
       " ('Psychic', 37),\n",
       " ('Fire', 33),\n",
       " ('Electric', 32),\n",
       " ('Fighting', 27),\n",
       " (('Normal', 'Flying'), 26),\n",
       " ('Bug', 19),\n",
       " ('Fairy', 18),\n",
       " ('Ground', 17),\n",
       " ('Poison', 16),\n",
       " (('Grass', 'Poison'), 14),\n",
       " ('Ice', 14),\n",
       " (('Bug', 'Flying'), 13),\n",
       " ('Dragon', 13),\n",
       " ('Rock', 13),\n",
       " ('Ghost', 13),\n",
       " (('Bug', 'Poison'), 11),\n",
       " ('Dark', 11)]"
      ]
     },
     "execution_count": 11,
     "metadata": {},
     "output_type": "execute_result"
    }
   ],
   "source": [
    "typings = []\n",
    "\n",
    "for poke in data.values():\n",
    "    if len(poke['types']) > 1:\n",
    "        type_tuple = (poke['types'][0], poke['types'][1])\n",
    "    else:\n",
    "        type_tuple = (poke['types'][0])\n",
    "    \n",
    "    typings.append(type_tuple)\n",
    "\n",
    "typings_count = Counter(typings)\n",
    "\n",
    "typings_count.most_common(10)"
   ]
  }
 ],
 "metadata": {
  "interpreter": {
   "hash": "63fd5069d213b44bf678585dea6b12cceca9941eaf7f819626cde1f2670de90d"
  },
  "kernelspec": {
   "display_name": "Python 3.9.0 64-bit",
   "language": "python",
   "name": "python3"
  },
  "language_info": {
   "codemirror_mode": {
    "name": "ipython",
    "version": 3
   },
   "file_extension": ".py",
   "mimetype": "text/x-python",
   "name": "python",
   "nbconvert_exporter": "python",
   "pygments_lexer": "ipython3",
   "version": "3.9.0"
  },
  "orig_nbformat": 4
 },
 "nbformat": 4,
 "nbformat_minor": 2
}
