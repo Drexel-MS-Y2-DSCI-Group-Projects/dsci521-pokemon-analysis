{
 "cells": [
  {
   "cell_type": "code",
   "execution_count": 3,
   "metadata": {},
   "outputs": [],
   "source": [
    "import json\n",
    "from collections import Counter\n",
    "from PIL import ImageColor\n",
    "from scipy.spatial import KDTree\n",
    "from webcolors import (\n",
    "    CSS3_HEX_TO_NAMES,\n",
    "    hex_to_rgb,\n",
    ")\n",
    "\n",
    "with open('../merged.json') as p:\n",
    "    data = json.load(p)"
   ]
  },
  {
   "cell_type": "markdown",
   "metadata": {},
   "source": [
    "We will be converting the Pokemons' hex code color values into real color names, for easier analysis later on."
   ]
  },
  {
   "cell_type": "code",
   "execution_count": 4,
   "metadata": {},
   "outputs": [],
   "source": [
    "css3_db = CSS3_HEX_TO_NAMES\n",
    "\n",
    "# Function to get the color name from an RGB value\n",
    "def convert_rgb_to_names(rgb_tuple):\n",
    "    \n",
    "    # a dictionary of all the hex and their respective names in css3\n",
    "    names = []\n",
    "    rgb_values = []    \n",
    "    for color_hex, color_name in css3_db.items():\n",
    "        names.append(color_name)\n",
    "        rgb_values.append(hex_to_rgb(color_hex))\n",
    "    \n",
    "    kdt_db = KDTree(rgb_values)    \n",
    "    distance, index = kdt_db.query(rgb_tuple)\n",
    "    return names[index]"
   ]
  },
  {
   "cell_type": "code",
   "execution_count": 59,
   "metadata": {},
   "outputs": [],
   "source": [
    "def remake_pokemon_json(data, use_main_color = True, skip_colors=[]):\n",
    "    new_dict = []\n",
    "    for dex_num, poke in data.items():\n",
    "        new_poke_dict = dict()\n",
    "        color_names = set()\n",
    "\n",
    "        for color in poke['colors']:\n",
    "            color_rgb = ImageColor.getcolor(color, \"RGB\") # conver hex code to rgb\n",
    "            color_name = convert_rgb_to_names(color_rgb) # get color name based on rgb values\n",
    "\n",
    "            if (color_name not in skip_colors):\n",
    "                color_names.add(color_name)\n",
    "\n",
    "\n",
    "        # Set up the new pokemon object\n",
    "\n",
    "        new_poke_dict['id'] = dex_num\n",
    "\n",
    "        try:\n",
    "            new_poke_dict['name'] = poke['name']\n",
    "        except:\n",
    "            new_poke_dict['name'] = ''\n",
    "\n",
    "        new_poke_dict['types'] = poke['types']\n",
    "\n",
    "        try:\n",
    "            new_poke_dict['main_color'] = poke['color']\n",
    "        except:\n",
    "            new_poke_dict['main_color'] = ''\n",
    "\n",
    "        if (use_main_color and new_poke_dict['main_color'] != ''):\n",
    "            color_names.add(new_poke_dict['main_color'])\n",
    "\n",
    "        new_poke_dict['colors'] = list(color_names)\n",
    "        new_poke_dict['colors'].sort()\n",
    "\n",
    "        new_dict.append(new_poke_dict)\n",
    "\n",
    "    return new_dict"
   ]
  },
  {
   "cell_type": "code",
   "execution_count": 60,
   "metadata": {},
   "outputs": [],
   "source": [
    "new_poke_dict = remake_pokemon_json(data, skip_colors=['white','black'])\n",
    "\n",
    "with open('data/new_pokemon_list.json', 'w') as outfile:\n",
    "    json.dump(new_poke_dict, outfile)"
   ]
  },
  {
   "cell_type": "code",
   "execution_count": 61,
   "metadata": {},
   "outputs": [
    {
     "name": "stdout",
     "output_type": "stream",
     "text": [
      "{'id': '001', 'name': 'bulbasaur', 'types': ['Grass', 'Poison'], 'main_color': 'green', 'colors': ['darkseagreen', 'gray', 'green']}\n",
      "{'id': '111', 'name': 'rhyhorn', 'types': ['Ground', 'Rock'], 'main_color': 'gray', 'colors': ['darkgray', 'darkslategray', 'dimgray', 'gray']}\n",
      "{'id': '271', 'name': 'lombre', 'types': ['Water', 'Grass'], 'main_color': 'green', 'colors': ['darkkhaki', 'green', 'olivedrab', 'silver']}\n"
     ]
    }
   ],
   "source": [
    "print(new_poke_dict[0])\n",
    "print(new_poke_dict[110])\n",
    "print(new_poke_dict[270])"
   ]
  },
  {
   "cell_type": "markdown",
   "metadata": {},
   "source": [
    "Curious to see what the counts are for individual colors, and then also typing(s)"
   ]
  },
  {
   "cell_type": "code",
   "execution_count": 119,
   "metadata": {},
   "outputs": [
    {
     "data": {
      "text/plain": [
       "[('darkslategray', 388),\n",
       " ('dimgray', 284),\n",
       " ('gray', 245),\n",
       " ('blue', 157),\n",
       " ('silver', 157),\n",
       " ('darkgray', 157),\n",
       " ('brown', 145),\n",
       " ('indianred', 112),\n",
       " ('snow', 110),\n",
       " ('green', 108)]"
      ]
     },
     "execution_count": 119,
     "metadata": {},
     "output_type": "execute_result"
    }
   ],
   "source": [
    "hex_codes = []\n",
    "\n",
    "for poke in new_poke_dict:\n",
    "    color_list = poke['colors']\n",
    "    hex_codes.extend(color_list)\n",
    "\n",
    "hex_codes_count = Counter(hex_codes)\n",
    "all_colors = list(hex_codes_count.keys())\n",
    "all_colors.sort()\n",
    "\n",
    "hex_codes_count.most_common(10)"
   ]
  },
  {
   "cell_type": "code",
   "execution_count": 121,
   "metadata": {},
   "outputs": [
    {
     "name": "stdout",
     "output_type": "stream",
     "text": [
      "[(('Normal',), 69), (('Water',), 67), (('Grass',), 43), (('Psychic',), 37), (('Fire',), 33), (('Electric',), 32), (('Fighting',), 27), (('Normal', 'Flying'), 26), (('Bug',), 19), (('Fairy',), 18)]\n"
     ]
    }
   ],
   "source": [
    "typings = []\n",
    "all_typings = []\n",
    "\n",
    "for poke in new_poke_dict:\n",
    "    for type in poke['types']:\n",
    "        all_typings.append(type)\n",
    "\n",
    "    if len(poke['types']) > 1:\n",
    "        type_tuple = (poke['types'][0], poke['types'][1])\n",
    "    else:\n",
    "        type_tuple = (poke['types'][0],)\n",
    "    \n",
    "    typings.append(type_tuple)\n",
    "\n",
    "typings_count = Counter(typings)\n",
    "all_typings = set(all_typings)\n",
    "all_typings = list(all_typings)\n",
    "all_typings.sort()\n",
    "\n",
    "print(typings_count.most_common(10))"
   ]
  },
  {
   "cell_type": "markdown",
   "metadata": {},
   "source": [
    "Using our new Pokemon objects, let's see what the co-occurrences are like for colors and typings (at first, let's look at them individually). To do this, we can make a reusable function that will aggregate the co-occurrences of values based on a key we choose:"
   ]
  },
  {
   "cell_type": "code",
   "execution_count": 96,
   "metadata": {},
   "outputs": [],
   "source": [
    "from collections import defaultdict, Counter\n",
    "\n",
    "def count_co_occurrences(pokemon_data, key):\n",
    "    \n",
    "    #--- Your code starts here\n",
    "\n",
    "    co_occurrences = defaultdict(lambda: Counter())\n",
    "\n",
    "    for pokemon in pokemon_data:\n",
    "        for value in pokemon[key]:\n",
    "            co_occur_list = [ val for val in pokemon[key]]\n",
    "            co_occurrences[value] += Counter(co_occur_list)\n",
    "\n",
    "    #--- Your code ends here            \n",
    "    \n",
    "    return co_occurrences"
   ]
  },
  {
   "cell_type": "code",
   "execution_count": 114,
   "metadata": {},
   "outputs": [
    {
     "name": "stdout",
     "output_type": "stream",
     "text": [
      "Grass type co-occurrences:\n",
      "Counter({'Grass': 107, 'Poison': 14, 'Bug': 6, 'Flying': 6, 'Ghost': 6, 'Fairy': 5, 'Psychic': 4, 'Dark': 4, 'Water': 3, 'Fighting': 3, 'Steel': 3, 'Dragon': 3, 'Rock': 2, 'Ice': 2, 'Normal': 2, 'Ground': 1})\n",
      "\n",
      "Water type co-occurrences:\n",
      "Counter({'Water': 142, 'Rock': 11, 'Ground': 9, 'Flying': 8, 'Ice': 7, 'Poison': 6, 'Psychic': 5, 'Bug': 5, 'Fairy': 4, 'Dark': 4, 'Dragon': 3, 'Grass': 3, 'Ghost': 3, 'Fighting': 2, 'Electric': 2, 'Steel': 1, 'Normal': 1, 'Fire': 1})\n",
      "\n",
      "Fire type co-occurrences:\n",
      "Counter({'Fire': 71, 'Flying': 6, 'Fighting': 6, 'Ghost': 4, 'Bug': 4, 'Rock': 3, 'Dark': 3, 'Ground': 2, 'Psychic': 2, 'Dragon': 2, 'Normal': 2, 'Poison': 2, 'Steel': 1, 'Water': 1})\n",
      "\n",
      "Number of times 'blue' and 'green' co-occur:\n",
      "0\n",
      "\n",
      "Number of times 'Black' and 'Salmon' co-occur:\n",
      "0\n"
     ]
    }
   ],
   "source": [
    "# Typing co-occurrences\n",
    "typing_co_occurrences = count_co_occurrences(new_poke_dict, 'types')\n",
    "\n",
    "# write type co-occurrences to file\n",
    "with open('data/typing_co_occurrences.json', 'w') as outfile:\n",
    "    json.dump(dict(typing_co_occurrences), outfile)\n",
    "\n",
    "# color co-occurrences\n",
    "color_co_occurrences = count_co_occurrences(new_poke_dict, 'colors')\n",
    "\n",
    "# write color co-occurrences to file\n",
    "with open('data/color_co_occurrences.json', 'w') as outfile:\n",
    "    json.dump(dict(color_co_occurrences), outfile)\n",
    "\n",
    "print(\"Grass type co-occurrences:\")\n",
    "print(typing_co_occurrences['Grass'])\n",
    "print()\n",
    "print(\"Water type co-occurrences:\")\n",
    "print(typing_co_occurrences['Water'])\n",
    "print()\n",
    "print(\"Fire type co-occurrences:\")\n",
    "print(typing_co_occurrences['Fire'])\n",
    "print()\n",
    "print(\"Number of times 'blue' and 'green' co-occur:\")\n",
    "print(color_co_occurrences['blue']['green'])\n",
    "print()\n",
    "print(\"Number of times 'Black' and 'Salmon' co-occur:\")\n",
    "print(color_co_occurrences['black']['salmon'])\n"
   ]
  },
  {
   "cell_type": "markdown",
   "metadata": {},
   "source": [
    "The above gives us some interesting information about what types and colors co-occur the most with each other. As we see, grass and poison co-occur only 14 times among 905 records, while grass and fire never occur together (makes some sense). For the colors, we can see that black and white occur a lot together, while black and 'salmon' occur together barely at all.\n",
    "\n",
    "Let us take this a little further, and see what the probabilities are like for certain typings to co-occur, and certain colors to co-occur."
   ]
  },
  {
   "cell_type": "code",
   "execution_count": 76,
   "metadata": {},
   "outputs": [],
   "source": [
    "# Function to get probability of one value occurring in the total number\n",
    "def prob_value(total, co_occurrences, value):\n",
    "    probability = co_occurrences[value][value] / total\n",
    "    return round(probability, 5)\n",
    "\n",
    "# Function to get probability that 2 values occur together\n",
    "def prob_value_pair(total, co_occurrences, value1, value2):\n",
    "    probability = co_occurrences[value1][value2] / total\n",
    "    return round(probability, 5)\n",
    "\n",
    "# Final function to get the probability of a value given another value\n",
    "def prob_value_given_value(total, co_occurrences, value1, value2):\n",
    "    prob_pair = prob_value_pair(total, co_occurrences, value1, value2)\n",
    "    prob_b = prob_value(total, co_occurrences, value2)\n",
    "\n",
    "    probability = prob_pair / prob_b\n",
    "    return round(probability, 5)"
   ]
  },
  {
   "cell_type": "code",
   "execution_count": 77,
   "metadata": {},
   "outputs": [
    {
     "name": "stdout",
     "output_type": "stream",
     "text": [
      "Probability of a grass type:\n",
      "0.11823\n",
      "\n",
      "Probability of a grass/poison type:\n",
      "0.01547\n",
      "\n",
      "Probability a Pokemon will be Poison given it is Grass:\n",
      "0.13085\n",
      "\n",
      "Probability that a Pokemon is both green and salmon colored:\n",
      "0.0011\n",
      "\n",
      "Probability a Pokemon has the color 'salmon' given that it has 'green':\n",
      "0.00922\n"
     ]
    }
   ],
   "source": [
    "print(\"Probability of a grass type:\")\n",
    "print(prob_value(len(new_poke_dict), typing_co_occurrences, 'Grass'))\n",
    "print()\n",
    "print(\"Probability of a grass/poison type:\")\n",
    "print(prob_value_pair(len(new_poke_dict), typing_co_occurrences, 'Grass', 'Poison'))\n",
    "print()\n",
    "print(\"Probability a Pokemon will be Poison given it is Grass:\")\n",
    "print(prob_value_given_value(len(new_poke_dict), typing_co_occurrences, 'Poison', 'Grass'))\n",
    "print()\n",
    "print(\"Probability that a Pokemon is both green and salmon colored:\")\n",
    "print(prob_value_pair(len(new_poke_dict), color_co_occurrences, 'salmon', 'green'))\n",
    "print()\n",
    "print(\"Probability a Pokemon has the color 'salmon' given that it has 'green':\")\n",
    "print(prob_value_given_value(len(new_poke_dict), color_co_occurrences, 'salmon', 'green'))"
   ]
  },
  {
   "cell_type": "markdown",
   "metadata": {},
   "source": [
    "The above gives us some good details about the likelihood that certain types and colors will co-occur, both just overall and if one is already set to occur. For example, while Grass/Poison is only probable 1.55% of the time, if a Pokemon IS a Grass type, the probability it will be Poison is higher at 13.08%.\n",
    "\n",
    "Let's take a look at the complete probabilities for certain types and colors."
   ]
  },
  {
   "cell_type": "code",
   "execution_count": 40,
   "metadata": {},
   "outputs": [],
   "source": [
    "def likely_co_values(total, co_occurrences, value1):\n",
    "    ## initialize a Counter() for the co-ingredient probabilities\n",
    "    probs = Counter()\n",
    "\n",
    "    for value2 in co_occurrences[value1]:\n",
    "        probs[value2] += prob_value_given_value(total, co_occurrences, value2, value1)\n",
    "\n",
    "    return probs"
   ]
  },
  {
   "cell_type": "code",
   "execution_count": 78,
   "metadata": {},
   "outputs": [
    {
     "name": "stdout",
     "output_type": "stream",
     "text": [
      "Typings most likely to pair with 'Grass':\n",
      "[('Grass', 1.0), ('Poison', 0.13085), ('Bug', 0.05608), ('Flying', 0.05608), ('Ghost', 0.05608), ('Fairy', 0.04669), ('Psychic', 0.03738), ('Dark', 0.03738), ('Water', 0.028), ('Fighting', 0.028), ('Steel', 0.028), ('Dragon', 0.028), ('Rock', 0.01869), ('Ice', 0.01869), ('Normal', 0.01869), ('Ground', 0.0093)]\n",
      "\n",
      "Typings most likely to pair with 'Dragon':\n",
      "[('Dragon', 1.0), ('Flying', 0.10714), ('Ground', 0.10714), ('Ghost', 0.07143), ('Dark', 0.07143), ('Water', 0.05349), ('Poison', 0.05349), ('Grass', 0.05349), ('Psychic', 0.03571), ('Steel', 0.03571), ('Fire', 0.03571), ('Electric', 0.03571), ('Rock', 0.03571), ('Fighting', 0.03571), ('Ice', 0.01778), ('Normal', 0.01778)]\n",
      "\n",
      "\n",
      "Colors likely to pair with 'salmon':\n",
      "[('salmon', 1.0), ('red', 0.5), ('darkslategray', 0.5), ('chocolate', 0.24887), ('wheat', 0.24887), ('darkgray', 0.24887), ('darkolivegreen', 0.24887), ('green', 0.24887), ('khaki', 0.24887), ('sienna', 0.24887)]\n",
      "\n",
      "Colors likely to pair with 'green':\n",
      "[('green', 1.0), ('darkslategray', 0.36107), ('darkseagreen', 0.31481), ('dimgray', 0.2963), ('gray', 0.21292), ('darkkhaki', 0.2037), ('darkolivegreen', 0.15737), ('khaki', 0.14815), ('snow', 0.13885), ('tan', 0.13885)]\n"
     ]
    }
   ],
   "source": [
    "print(\"Typings most likely to pair with 'Grass':\")\n",
    "print(likely_co_values(len(new_poke_dict), typing_co_occurrences, \"Grass\").most_common())\n",
    "print()\n",
    "print(\"Typings most likely to pair with 'Dragon':\")\n",
    "print(likely_co_values(len(new_poke_dict), typing_co_occurrences, \"Dragon\").most_common())\n",
    "print()\n",
    "print()\n",
    "print(\"Colors likely to pair with 'salmon':\")\n",
    "print(likely_co_values(len(new_poke_dict), color_co_occurrences, \"salmon\").most_common(10))\n",
    "print()\n",
    "print(\"Colors likely to pair with 'green':\")\n",
    "print(likely_co_values(len(new_poke_dict), color_co_occurrences, \"green\").most_common(10))\n"
   ]
  },
  {
   "cell_type": "markdown",
   "metadata": {},
   "source": [
    "Using our 'likely_co_values\" function, this gives us all the probabilities that, given a certain attribute, a Pokemon will be another attribute too. We can use our previously-created 'all_typings' and 'all_colors' variable to cycle through all of them and aggregate all the likely pairings into 1 object. With that, we can then output 2 files showing the likelihood types and colors will co-occur."
   ]
  },
  {
   "cell_type": "code",
   "execution_count": 123,
   "metadata": {},
   "outputs": [],
   "source": [
    "# Reusable function is able to take 'total', a co-occurrences variable, and keys list in order to get likely pairings\n",
    "def get_all_likely_pairings(total, co_occurrences, keys):\n",
    "    likely_pairings = dict()\n",
    "    for key in keys:\n",
    "        likely_values = likely_co_values(total, co_occurrences, key)\n",
    "        likely_values = dict(likely_values)\n",
    "\n",
    "        for key2 in keys:\n",
    "            if (key2 not in likely_values.keys()):\n",
    "                likely_values[key2] = 0\n",
    "\n",
    "        likely_values.pop(key)\n",
    "\n",
    "        likely_pairings[key] = likely_values\n",
    "\n",
    "    return likely_pairings"
   ]
  },
  {
   "cell_type": "code",
   "execution_count": 126,
   "metadata": {},
   "outputs": [],
   "source": [
    "# Getting all likely type pairings\n",
    "all_likely_type_pairings = get_all_likely_pairings(len(new_poke_dict), typing_co_occurrences, all_typings)\n",
    "\n",
    "# Getting all likely color pairings\n",
    "all_likely_color_pairings = get_all_likely_pairings(len(new_poke_dict), color_co_occurrences, all_colors)\n",
    "\n",
    "# Save the likely Type pairings to a data file\n",
    "with open('data/type_pair_likelihood.json', 'w') as outfile:\n",
    "    json.dump(all_likely_type_pairings, outfile)\n",
    "\n",
    "# Save the likely Type pairings to a data file\n",
    "with open('data/color_pair_likelihood.json', 'w') as outfile:\n",
    "    json.dump(all_likely_color_pairings, outfile)"
   ]
  },
  {
   "cell_type": "markdown",
   "metadata": {},
   "source": [
    "What we want to do now is also compare color to typing, and vice versa: Given a color, what are the likelihoods of certain types; or given a type, what is the likelihood of it being a certain color?"
   ]
  }
 ],
 "metadata": {
  "interpreter": {
   "hash": "81794d4967e6c3204c66dcd87b604927b115b27c00565d3d43f05ba2f3a2cb0d"
  },
  "kernelspec": {
   "display_name": "Python 3.9.0 64-bit",
   "language": "python",
   "name": "python3"
  },
  "language_info": {
   "codemirror_mode": {
    "name": "ipython",
    "version": 3
   },
   "file_extension": ".py",
   "mimetype": "text/x-python",
   "name": "python",
   "nbconvert_exporter": "python",
   "pygments_lexer": "ipython3",
   "version": "3.9.0"
  },
  "orig_nbformat": 4
 },
 "nbformat": 4,
 "nbformat_minor": 2
}
