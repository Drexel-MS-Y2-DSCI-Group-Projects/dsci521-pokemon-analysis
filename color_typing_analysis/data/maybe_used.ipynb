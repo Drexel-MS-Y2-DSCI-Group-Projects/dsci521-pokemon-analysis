{
 "cells": [
  {
   "cell_type": "code",
   "execution_count": null,
   "metadata": {},
   "outputs": [],
   "source": [
    "import networkx as nx\n",
    "\n",
    "def create_pokemon_graph(data, key):\n",
    "\n",
    "    #--- Your code starts here\n",
    "    graph = nx.Graph()\n",
    "\n",
    "    nodes = []\n",
    "    edges = []\n",
    "    for pokemon in data:\n",
    "        for node in pokemon[key]:\n",
    "            nodes.append(node)\n",
    "            for item in pokemon[key]:\n",
    "                edges.append((item, node))\n",
    "\n",
    "    graph.add_nodes_from(nodes)\n",
    "    graph.add_edges_from(edges)\n",
    "\n",
    "    return graph"
   ]
  },
  {
   "cell_type": "code",
   "execution_count": null,
   "metadata": {},
   "outputs": [],
   "source": [
    "pokemon_color_graph = create_pokemon_graph(new_poke_dict, 'colors')\n",
    "\n",
    "for edge in pokemon_color_graph.edges:\n",
    "    if (edge[0] == 'black'):\n",
    "        print(edge)"
   ]
  },
  {
   "cell_type": "code",
   "execution_count": null,
   "metadata": {},
   "outputs": [],
   "source": [
    "color_type_combos = []\n",
    "\n",
    "skip_white = False\n",
    "\n",
    "for poke in new_poke_dict:\n",
    "    for color in poke['colors']:\n",
    "        if len(poke['types']) > 1:\n",
    "            type_tuple = (poke['types'][0], poke['types'][1])\n",
    "        else:\n",
    "            type_tuple = (poke['types'][0],)\n",
    "\n",
    "        if (color != 'white' or not skip_white):\n",
    "            combo_tuple = (type_tuple, color)\n",
    "            color_type_combos.append(combo_tuple)\n",
    "\n",
    "combo_counter = Counter(color_type_combos)\n",
    "\n",
    "combo_counter.most_common(10)"
   ]
  }
 ],
 "metadata": {
  "language_info": {
   "name": "python"
  },
  "orig_nbformat": 4
 },
 "nbformat": 4,
 "nbformat_minor": 2
}
