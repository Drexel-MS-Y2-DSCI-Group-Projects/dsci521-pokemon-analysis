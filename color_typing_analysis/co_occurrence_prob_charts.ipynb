{
 "cells": [
  {
   "cell_type": "code",
   "execution_count": 4,
   "metadata": {},
   "outputs": [],
   "source": [
    "import json\n",
    "import pandas as pd\n",
    "import numpy as np\n",
    "from matplotlib import pyplot as plt"
   ]
  },
  {
   "cell_type": "markdown",
   "metadata": {},
   "source": [
    "### Color and Type Probability Charts\n",
    "\n",
    "To start, let's bring in the files we saved from the previous workbook, and add them as variables."
   ]
  },
  {
   "cell_type": "code",
   "execution_count": 5,
   "metadata": {},
   "outputs": [],
   "source": [
    "def read_file(path_to_json):\n",
    "    with open(path_to_json, encoding = 'utf-8') as f:\n",
    "        data = f.read()\n",
    "        json_data = json.loads(data) \n",
    "    return json_data\n",
    "\n",
    "color_given_typing_likelihoods = read_file('./data/probabilities/type_and_color_pair_likelihood.json')\n",
    "typing_given_color_likelihoods = read_file('./data/probabilities/color_and_type_pair_likelihood.json')\n",
    "type_given_type_likelihoods = read_file('./data/probabilities/type_pair_likelihood.json')\n",
    "color_given_color_likelihoods = read_file('./data/probabilities/color_pair_likelihood.json')"
   ]
  },
  {
   "cell_type": "markdown",
   "metadata": {},
   "source": [
    "We will save all these into DataFrames, which makes it a lot easier to add/remove certain data, and also use it for the charts."
   ]
  },
  {
   "cell_type": "code",
   "execution_count": 6,
   "metadata": {},
   "outputs": [],
   "source": [
    "# Reuseable function to mask for certain percentage ranges\n",
    "def mask_percents(df, lower_limit = 0, upper_limit = 1):\n",
    "\n",
    "    mask_start = df >= lower_limit\n",
    "    df_masked = df[mask_start]\n",
    "\n",
    "    mask_stop = df_masked <= upper_limit\n",
    "    df_masked = df_masked[mask_stop]\n",
    "\n",
    "    return df_masked"
   ]
  },
  {
   "cell_type": "code",
   "execution_count": 7,
   "metadata": {},
   "outputs": [],
   "source": [
    "def create_df(data, sort = True):\n",
    "    df = pd.DataFrame(data)\n",
    "\n",
    "    columns = list(df.columns.values)\n",
    "\n",
    "    df_array = []\n",
    "    if (sort):\n",
    "        for col in columns:\n",
    "            sort_df = df[col]\n",
    "            sort_df.sort_values(ascending=False)\n",
    "            \n",
    "            sort_df_index = sort_df.index\n",
    "            sort_df_values = np.array(sort_df.values)\n",
    "\n",
    "            new_df = pd.DataFrame(sort_df_values, index=sort_df_index, columns=[col])\n",
    "            # new_df = pd.DataFrame(sort_df)\n",
    "\n",
    "            df_array.append(new_df)\n",
    "\n",
    "    return df_array"
   ]
  },
  {
   "cell_type": "code",
   "execution_count": 8,
   "metadata": {},
   "outputs": [
    {
     "name": "stdout",
     "output_type": "stream",
     "text": [
      "                   Bug     Dark   Dragon  Electric    Fairy  Fighting  \\\n",
      "darkslategray  0.40002  0.53571  0.37492   0.47364  0.41813   0.54839   \n",
      "dimgray        0.37649  0.53571  0.39286   0.42109  0.29093   0.30638   \n",
      "gray           0.27055  0.25000  0.25000   0.14036  0.23630   0.35484   \n",
      "red            0.23531  0.14286  0.07143   0.05256  0.01810   0.14509   \n",
      "indianred      0.22349  0.14286  0.21429   0.05256  0.18183   0.12903   \n",
      "...                ...      ...      ...       ...      ...       ...   \n",
      "plum           0.00000  0.00000  0.00000   0.00000  0.03637   0.00000   \n",
      "powderblue     0.00000  0.00000  0.01778   0.00000  0.00000   0.00000   \n",
      "slateblue      0.00000  0.00000  0.00000   0.00000  0.00000   0.00000   \n",
      "teal           0.00000  0.01778  0.01778   0.01747  0.03637   0.00000   \n",
      "whitesmoke     0.00000  0.00000  0.00000   0.00000  0.00000   0.00000   \n",
      "\n",
      "                  Fire   Flying    Ghost    Grass   Ground      Ice   Normal  \\\n",
      "darkslategray  0.49293  0.60197  0.44222  0.26169  0.44118  0.46336  0.45297   \n",
      "dimgray        0.19720  0.27186  0.30769  0.26169  0.32353  0.24393  0.29061   \n",
      "gray           0.12670  0.23302  0.32684  0.25230  0.47059  0.17064  0.36750   \n",
      "red            0.47890  0.11651  0.01914  0.03738  0.04405  0.04879  0.03419   \n",
      "indianred      0.28171  0.15535  0.05761  0.11215  0.08824  0.09757  0.11108   \n",
      "...                ...      ...      ...      ...      ...      ...      ...   \n",
      "plum           0.00000  0.01942  0.00000  0.00000  0.02941  0.00000  0.00000   \n",
      "powderblue     0.00000  0.01942  0.00000  0.00000  0.00000  0.14636  0.00000   \n",
      "slateblue      0.00000  0.00000  0.00000  0.00000  0.00000  0.00000  0.00000   \n",
      "teal           0.00000  0.00967  0.01914  0.00000  0.00000  0.02428  0.01709   \n",
      "whitesmoke     0.00000  0.00967  0.00000  0.00000  0.00000  0.02428  0.00000   \n",
      "\n",
      "                Poison  Psychic     Rock    Steel    Water  \n",
      "darkslategray  0.30988  0.40656  0.46963  0.57143  0.38729  \n",
      "dimgray        0.29573  0.26375  0.39394  0.42857  0.23944  \n",
      "gray           0.26756  0.19781  0.43933  0.55349  0.11969  \n",
      "red            0.05634  0.07688  0.07569  0.07143  0.06335  \n",
      "indianred      0.14085  0.09886  0.10599  0.07143  0.07042  \n",
      "...                ...      ...      ...      ...      ...  \n",
      "plum           0.01402  0.01094  0.00000  0.00000  0.00701  \n",
      "powderblue     0.00000  0.01094  0.00000  0.01778  0.03518  \n",
      "slateblue      0.00000  0.00000  0.00000  0.00000  0.00701  \n",
      "teal           0.01402  0.00000  0.00000  0.03571  0.02817  \n",
      "whitesmoke     0.00000  0.00000  0.00000  0.01778  0.00701  \n",
      "\n",
      "[91 rows x 18 columns]\n"
     ]
    }
   ],
   "source": [
    "# Saving dataframe for Color given Typing\n",
    "# df_cgt = create_df(color_given_typing_likelihoods)\n",
    "df_cgt = pd.DataFrame(color_given_typing_likelihoods)\n",
    "# df_cgt_0_1 = mask_percents(pd.DataFrame(color_given_typing_likelihoods), 0, 1)\n",
    "# df_cgt_01_1 = mask_percents(pd.DataFrame(color_given_typing_likelihoods), 0.1, 1)\n",
    "# df_cgt_02_1 = mask_percents(pd.DataFrame(color_given_typing_likelihoods), 0.2, 1)\n",
    "# df_cgt_03_1 = mask_percents(pd.DataFrame(color_given_typing_likelihoods), 0.3, 1)\n",
    "# df_cgt_04_1 = mask_percents(pd.DataFrame(color_given_typing_likelihoods), 0, 1)\n",
    "\n",
    "# print(df_cgt.head())\n",
    "print(df_cgt)\n",
    "\n",
    "# saving dataframe for Type given Color\n",
    "df_tgc = mask_percents(pd.DataFrame(typing_given_color_likelihoods), 0.10, 1)\n",
    "# print(df_tgc.head())\n",
    "\n",
    "# saving dataframe for Type given Type\n",
    "df_tgt = mask_percents(pd.DataFrame(type_given_type_likelihoods))\n",
    "# print(df_tgt.head())\n",
    "\n",
    "# saving dataframe for Color given Color\n",
    "df_cgc = mask_percents(pd.DataFrame(color_given_color_likelihoods), 0.10, 1)\n",
    "# print(df_cgc.head())"
   ]
  },
  {
   "cell_type": "code",
   "execution_count": 9,
   "metadata": {},
   "outputs": [],
   "source": [
    "def plot_cgt_data(df, title, xlabel, ylabel, lower_limit = 0, upper_limit = 1):\n",
    "    fig = plt.figure(figsize = (18, 6))\n",
    "\n",
    "    # df_arr_masked = []\n",
    "    # for item in df:\n",
    "    #     masked = mask_percents(item, lower_limit, upper_limit)\n",
    "    #     masked = masked.dropna()\n",
    "    #     transposed = masked.transpose()\n",
    "    #     df_arr_masked.append(transposed)\n",
    "\n",
    "    df_masked = mask_percents(df, lower_limit, upper_limit)\n",
    "    df_masked = df_masked.transpose()\n",
    "    # df_masked = df.transpose()\n",
    "\n",
    "    y_offset = np.zeros(len(df_masked.index))\n",
    "    # y_offset = np.zeros(len(df[0].index))\n",
    "\n",
    "    for index, col in enumerate(df_masked.columns):\n",
    "        plt.bar(df_masked.index, df_masked[col], bottom = y_offset, color = col, edgecolor = 'black', label = col)\n",
    "        y_offset = y_offset + df_masked[col]\n",
    "\n",
    "    # for col in df_arr_masked:\n",
    "    #     column = col.index.values[0]\n",
    "    #     values = col.values[0]\n",
    "    #     index = col.columns.values\n",
    "    #     plt.bar(index, values, bottom = y_offset, color = column, edgecolor = 'black', label = column)\n",
    "    #     y_offset = y_offset + values\n",
    "        \n",
    "\n",
    "    plot_title = f'{title} - {str(round(lower_limit * 100, 2))}% to {str(round(upper_limit * 100, 2))}%'\n",
    "    # plot_title = title\n",
    "    plt.title(plot_title)\n",
    "    plt.ylabel(f'{ylabel}', fontsize = 15)\n",
    "    plt.xlabel(xlabel, fontsize = 15)\n",
    "    plt.xticks(rotation = 45, fontsize = 12)\n",
    "\n",
    "    return fig\n",
    "\n",
    "\n",
    "# def plot_tgt_data(df, color_df, xlabel, ylabel, legend=True):\n",
    "#     fig = plt.figure(figsize = (18, 6))\n",
    "\n",
    "#     for index, col in enumerate(df.columns):\n",
    "#         colors = color_df[col]\n",
    "#         most_likely_color = colors.head(1).index.values[0]\n",
    "#         _ = plt.bar(df.index, df[col], edgecolor = 'black', label = col)\n",
    "\n",
    "#     plt.ylabel(ylabel, fontsize = 15)\n",
    "#     plt.xlabel(xlabel, fontsize = 15)\n",
    "#     plt.xticks(rotation = 45)\n",
    "\n",
    "#     if legend:\n",
    "#         plt.legend()\n",
    "\n",
    "#     return fig"
   ]
  },
  {
   "cell_type": "markdown",
   "metadata": {},
   "source": [
    "The most interesting probability chart to see is the probability that, given a type, it will be a certain color. We can plot this out in a stacked bar chart, to see the probabilities that a type will be a certain color. The resulting bar chart is basically a color palette for each type, which is pretty neat. \n",
    "\n",
    "We can also use the masking from above to restrict to probabilities of 0.1 and up, 0.2 and up, etc, to see differing charts. From below, you can see that once it gets to 0.4 to 1, some types have no bars."
   ]
  },
  {
   "cell_type": "code",
   "execution_count": 14,
   "metadata": {},
   "outputs": [
    {
     "data": {
      "image/png": "[encoded data removed]",
      "text/plain": [
       "<Figure size 1296x432 with 1 Axes>"
      ]
     },
     "metadata": {
      "needs_background": "light"
     },
     "output_type": "display_data"
    }
   ],
   "source": [
    "# fig_cgt = plot_cgt_data(df_cgt_01_1, 'Color Probabilities Given Type', 'Type', 'Probability')\n",
    "\n",
    "# fig_cgt_1 = plot_cgt_data(df_cgt, 'Color Probabilities Given Type', 'Type', 'Probability')\n",
    "\n",
    "# fig_cgt_2 = plot_cgt_data(df_cgt, 'Color Probabilities Given Type', 'Type', 'Probability', 0.05, 1)\n",
    "\n",
    "fig_cgt_2 = plot_cgt_data(df_cgt, 'Color Probabilities Given Type', 'Type', 'Probability', 0.10, 1)\n",
    "\n",
    "# fig_cgt_3 = plot_cgt_data(df_cgt, 'Color Probabilities Given Type', 'Type', 'Probability', 0.20, 1)\n",
    "\n",
    "# fig_cgt_4 = plot_cgt_data(df_cgt, 'Color Probabilities Given Type', 'Type', 'Probability', 0.30, 1)\n",
    "\n",
    "# fig_cgt_5 = plot_cgt_data(df_cgt, 'Color Probabilities Given Type', 'Type', 'Probability', 0.40, 1)\n"
   ]
  },
  {
   "cell_type": "code",
   "execution_count": 11,
   "metadata": {},
   "outputs": [],
   "source": [
    "# def standardize(ts):\n",
    "\n",
    "#     means = dict()\n",
    "#     stds = dict()\n",
    "#     for index, word in enumerate(ts.columns):\n",
    "#         mean = np.mean(ts[word])\n",
    "#         std = np.std(ts[word])\n",
    "#         means[word] = mean\n",
    "#         stds[word] = std\n",
    "    \n",
    "#     std_ts = ts.transform(lambda x: ( x - means[x.name] ) / stds[x.name] )\n",
    "    \n",
    "#     return std_ts"
   ]
  },
  {
   "cell_type": "code",
   "execution_count": 12,
   "metadata": {},
   "outputs": [],
   "source": [
    "# df_std_cgt = standardize(df_cgt)\n",
    "# print(df_std_cgt.head())"
   ]
  }
 ],
 "metadata": {
  "interpreter": {
   "hash": "81794d4967e6c3204c66dcd87b604927b115b27c00565d3d43f05ba2f3a2cb0d"
  },
  "kernelspec": {
   "display_name": "Python 3.9.0 64-bit",
   "language": "python",
   "name": "python3"
  },
  "language_info": {
   "codemirror_mode": {
    "name": "ipython",
    "version": 3
   },
   "file_extension": ".py",
   "mimetype": "text/x-python",
   "name": "python",
   "nbconvert_exporter": "python",
   "pygments_lexer": "ipython3",
   "version": "3.9.0"
  },
  "orig_nbformat": 4
 },
 "nbformat": 4,
 "nbformat_minor": 2
}
