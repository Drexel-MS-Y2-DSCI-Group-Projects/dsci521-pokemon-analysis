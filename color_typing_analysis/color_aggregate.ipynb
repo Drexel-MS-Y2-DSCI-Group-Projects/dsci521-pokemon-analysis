{
 "cells": [
  {
   "cell_type": "code",
   "execution_count": 3,
   "metadata": {},
   "outputs": [],
   "source": [
    "import json\n",
    "from collections import Counter\n",
    "from PIL import ImageColor\n",
    "from scipy.spatial import KDTree\n",
    "from webcolors import (\n",
    "    CSS3_HEX_TO_NAMES,\n",
    "    hex_to_rgb,\n",
    ")\n",
    "\n",
    "with open('../merged.json') as p:\n",
    "    data = json.load(p)"
   ]
  },
  {
   "cell_type": "markdown",
   "metadata": {},
   "source": [
    "We will be converting the Pokemons' hex code color values into real color names, for easier analysis later on."
   ]
  },
  {
   "cell_type": "code",
   "execution_count": 4,
   "metadata": {},
   "outputs": [],
   "source": [
    "css3_db = CSS3_HEX_TO_NAMES\n",
    "\n",
    "# Function to get the color name from an RGB value\n",
    "def convert_rgb_to_names(rgb_tuple):\n",
    "    \n",
    "    # a dictionary of all the hex and their respective names in css3\n",
    "    names = []\n",
    "    rgb_values = []    \n",
    "    for color_hex, color_name in css3_db.items():\n",
    "        names.append(color_name)\n",
    "        rgb_values.append(hex_to_rgb(color_hex))\n",
    "    \n",
    "    kdt_db = KDTree(rgb_values)    \n",
    "    distance, index = kdt_db.query(rgb_tuple)\n",
    "    return names[index]"
   ]
  },
  {
   "cell_type": "code",
   "execution_count": 59,
   "metadata": {},
   "outputs": [],
   "source": [
    "def remake_pokemon_json(data, use_main_color = True, skip_colors=[]):\n",
    "    new_dict = []\n",
    "    for dex_num, poke in data.items():\n",
    "        new_poke_dict = dict()\n",
    "        color_names = set()\n",
    "\n",
    "        for color in poke['colors']:\n",
    "            color_rgb = ImageColor.getcolor(color, \"RGB\") # conver hex code to rgb\n",
    "            color_name = convert_rgb_to_names(color_rgb) # get color name based on rgb values\n",
    "\n",
    "            if (color_name not in skip_colors):\n",
    "                color_names.add(color_name)\n",
    "\n",
    "\n",
    "        # Set up the new pokemon object\n",
    "\n",
    "        new_poke_dict['id'] = dex_num\n",
    "\n",
    "        try:\n",
    "            new_poke_dict['name'] = poke['name']\n",
    "        except:\n",
    "            new_poke_dict['name'] = ''\n",
    "\n",
    "        new_poke_dict['types'] = poke['types']\n",
    "\n",
    "        try:\n",
    "            new_poke_dict['main_color'] = poke['color']\n",
    "        except:\n",
    "            new_poke_dict['main_color'] = ''\n",
    "\n",
    "        if (use_main_color and new_poke_dict['main_color'] != ''):\n",
    "            color_names.add(new_poke_dict['main_color'])\n",
    "\n",
    "        new_poke_dict['colors'] = list(color_names)\n",
    "        new_poke_dict['colors'].sort()\n",
    "\n",
    "        new_dict.append(new_poke_dict)\n",
    "\n",
    "    return new_dict"
   ]
  },
  {
   "cell_type": "code",
   "execution_count": 60,
   "metadata": {},
   "outputs": [],
   "source": [
    "new_poke_dict = remake_pokemon_json(data, skip_colors=['white','black'])\n",
    "\n",
    "with open('data/new_pokemon_list.json', 'w') as outfile:\n",
    "    json.dump(new_poke_dict, outfile)"
   ]
  },
  {
   "cell_type": "code",
   "execution_count": 61,
   "metadata": {},
   "outputs": [
    {
     "name": "stdout",
     "output_type": "stream",
     "text": [
      "{'id': '001', 'name': 'bulbasaur', 'types': ['Grass', 'Poison'], 'main_color': 'green', 'colors': ['darkseagreen', 'gray', 'green']}\n",
      "{'id': '111', 'name': 'rhyhorn', 'types': ['Ground', 'Rock'], 'main_color': 'gray', 'colors': ['darkgray', 'darkslategray', 'dimgray', 'gray']}\n",
      "{'id': '271', 'name': 'lombre', 'types': ['Water', 'Grass'], 'main_color': 'green', 'colors': ['darkkhaki', 'green', 'olivedrab', 'silver']}\n"
     ]
    }
   ],
   "source": [
    "print(new_poke_dict[0])\n",
    "print(new_poke_dict[110])\n",
    "print(new_poke_dict[270])"
   ]
  },
  {
   "cell_type": "markdown",
   "metadata": {},
   "source": [
    "Curious to see what the counts are for individual colors, and then also typing(s)"
   ]
  },
  {
   "cell_type": "code",
   "execution_count": 62,
   "metadata": {},
   "outputs": [
    {
     "data": {
      "text/plain": [
       "[('darkslategray', 388),\n",
       " ('dimgray', 284),\n",
       " ('gray', 245),\n",
       " ('blue', 157),\n",
       " ('silver', 157),\n",
       " ('darkgray', 157),\n",
       " ('brown', 145),\n",
       " ('indianred', 112),\n",
       " ('snow', 110),\n",
       " ('green', 108)]"
      ]
     },
     "execution_count": 62,
     "metadata": {},
     "output_type": "execute_result"
    }
   ],
   "source": [
    "hex_codes = []\n",
    "\n",
    "for poke in new_poke_dict:\n",
    "    color_list = poke['colors']\n",
    "    hex_codes.extend(color_list)\n",
    "\n",
    "hex_codes_count = Counter(hex_codes)\n",
    "\n",
    "hex_codes_count.most_common(10)"
   ]
  },
  {
   "cell_type": "code",
   "execution_count": 18,
   "metadata": {},
   "outputs": [
    {
     "data": {
      "text/plain": [
       "[(('Normal',), 69),\n",
       " (('Water',), 67),\n",
       " (('Grass',), 43),\n",
       " (('Psychic',), 37),\n",
       " (('Fire',), 33),\n",
       " (('Electric',), 32),\n",
       " (('Fighting',), 27),\n",
       " (('Normal', 'Flying'), 26),\n",
       " (('Bug',), 19),\n",
       " (('Fairy',), 18)]"
      ]
     },
     "execution_count": 18,
     "metadata": {},
     "output_type": "execute_result"
    }
   ],
   "source": [
    "typings = []\n",
    "\n",
    "for poke in new_poke_dict:\n",
    "    if len(poke['types']) > 1:\n",
    "        type_tuple = (poke['types'][0], poke['types'][1])\n",
    "    else:\n",
    "        type_tuple = (poke['types'][0],)\n",
    "    \n",
    "    typings.append(type_tuple)\n",
    "\n",
    "typings_count = Counter(typings)\n",
    "\n",
    "typings_count.most_common(10)"
   ]
  },
  {
   "cell_type": "markdown",
   "metadata": {},
   "source": [
    "Using our new Pokemon objects, let's see what the co-occurrences are like for colors and typings (at first, let's look at them individually). To do this, we can make a reusable function that will aggregate the co-occurrences of values based on a key we choose:"
   ]
  },
  {
   "cell_type": "code",
   "execution_count": 29,
   "metadata": {},
   "outputs": [],
   "source": [
    "from collections import defaultdict, Counter\n",
    "\n",
    "def count_co_occurrences(pokemon_data, key):\n",
    "    \n",
    "    #--- Your code starts here\n",
    "\n",
    "    co_occurrences = defaultdict(lambda: Counter())\n",
    "\n",
    "    for pokemon in pokemon_data:\n",
    "        for value in pokemon[key]:\n",
    "            co_occur_list = [ val for val in pokemon[key]]\n",
    "            co_occurrences[value] += Counter(co_occur_list)\n",
    "\n",
    "    #--- Your code ends here            \n",
    "    \n",
    "    return co_occurrences"
   ]
  },
  {
   "cell_type": "code",
   "execution_count": 63,
   "metadata": {},
   "outputs": [
    {
     "name": "stdout",
     "output_type": "stream",
     "text": [
      "Number of times 'Grass' and 'Poison' co-occur:\n",
      "14\n",
      "Number of times 'Grass' and 'Fire' co-occur:\n",
      "0\n",
      "Number of times 'Black' and 'White' co-occur:\n",
      "0\n",
      "Number of times 'Black' and 'Salmon' co-occur:\n",
      "0\n"
     ]
    }
   ],
   "source": [
    "# Typing co-occurrences\n",
    "typing_co_occurrences = count_co_occurrences(new_poke_dict, 'types')\n",
    "\n",
    "# color co-occurrences\n",
    "color_co_occurrences = count_co_occurrences(new_poke_dict, 'colors')\n",
    "\n",
    "print(\"Number of times 'Grass' and 'Poison' co-occur:\")\n",
    "print(typing_co_occurrences['Grass']['Poison'])\n",
    "\n",
    "print(\"Number of times 'Grass' and 'Fire' co-occur:\")\n",
    "print(typing_co_occurrences['Grass']['Fire'])\n",
    "\n",
    "print(\"Number of times 'Black' and 'White' co-occur:\")\n",
    "print(color_co_occurrences['black']['white'])\n",
    "\n",
    "print(\"Number of times 'Black' and 'Salmon' co-occur:\")\n",
    "print(color_co_occurrences['black']['salmon'])\n"
   ]
  },
  {
   "cell_type": "markdown",
   "metadata": {},
   "source": [
    "The above gives us some interesting information about what types and colors co-occur the most with each other. As we see, grass and poison co-occur only 14 times among 905 records, while grass and fire never occur together (makes some sense). For the colors, we can see that black and white occur a lot together, while black and 'salmon' occur together barely at all.\n",
    "\n",
    "Let us take this a little further, and see what the probabilities are like for certain typings to co-occur, and certain colors to co-occur."
   ]
  },
  {
   "cell_type": "code",
   "execution_count": 31,
   "metadata": {},
   "outputs": [],
   "source": [
    "# Function to get probability of one value occurring in the total number\n",
    "def prob_value(total, co_occurrences, value):\n",
    "    probability = co_occurrences[value][value] / total\n",
    "    return probability\n",
    "\n",
    "# Function to get probability that 2 values occur together\n",
    "def prob_value_pair(total, co_occurrences, value1, value2):\n",
    "    probability = co_occurrences[value1][value2] / total\n",
    "    return probability\n",
    "\n",
    "# Final function to get the probability of a value given another value\n",
    "def prob_value_given_value(total, co_occurrences, value1, value2):\n",
    "    prob_pair = prob_value_pair(total, co_occurrences, value1, value2)\n",
    "    prob_b = prob_value(total, co_occurrences, value2)\n",
    "\n",
    "    probability = prob_pair / prob_b\n",
    "    return probability"
   ]
  },
  {
   "cell_type": "code",
   "execution_count": 39,
   "metadata": {},
   "outputs": [
    {
     "name": "stdout",
     "output_type": "stream",
     "text": [
      "Probability of a grass type:\n",
      "0.11823204419889503\n",
      "\n",
      "Probability of a grass/poison type:\n",
      "0.015469613259668509\n",
      "\n",
      "Probability a Pokemon will be Poison given it is Grass:\n",
      "0.1308411214953271\n",
      "\n",
      "Probability that a Pokemon is both black and salmon colored:\n",
      "0.0022099447513812156\n",
      "\n",
      "Probability a Pokemon has the color 'salmon' given that it has 'black':\n",
      "0.0033057851239669425\n"
     ]
    }
   ],
   "source": [
    "print(\"Probability of a grass type:\")\n",
    "print(prob_value(len(new_poke_dict), typing_co_occurrences, 'Grass'))\n",
    "print()\n",
    "print(\"Probability of a grass/poison type:\")\n",
    "print(prob_value_pair(len(new_poke_dict), typing_co_occurrences, 'Grass', 'Poison'))\n",
    "print()\n",
    "print(\"Probability a Pokemon will be Poison given it is Grass:\")\n",
    "print(prob_value_given_value(len(new_poke_dict), typing_co_occurrences, 'Poison', 'Grass'))\n",
    "print()\n",
    "print(\"Probability that a Pokemon is both black and salmon colored:\")\n",
    "print(prob_value_pair(len(new_poke_dict), color_co_occurrences, 'salmon', 'black'))\n",
    "print()\n",
    "print(\"Probability a Pokemon has the color 'salmon' given that it has 'black':\")\n",
    "print(prob_value_given_value(len(new_poke_dict), color_co_occurrences, 'salmon', 'black'))"
   ]
  },
  {
   "cell_type": "markdown",
   "metadata": {},
   "source": [
    "The above gives us some good details about the likelihood that certain types and colors will co-occur, both just overall and if one is already set to occur. For example, while Grass/Poison is only probable 1.55% of the time, if a Pokemon IS a Grass type, the probability it will be Poison is higher at 13.08%.\n",
    "\n",
    "Let's take a look at the complete probabilities for certain types and colors."
   ]
  },
  {
   "cell_type": "code",
   "execution_count": 40,
   "metadata": {},
   "outputs": [],
   "source": [
    "def likely_co_values(total, co_occurrences, value1):\n",
    "    ## initialize a Counter() for the co-ingredient probabilities\n",
    "    probs = Counter()\n",
    "\n",
    "    for value2 in co_occurrences[value1]:\n",
    "        probs[value2] += prob_value_given_value(total, co_occurrences, value2, value1)\n",
    "\n",
    "    return probs"
   ]
  },
  {
   "cell_type": "code",
   "execution_count": 65,
   "metadata": {},
   "outputs": [
    {
     "name": "stdout",
     "output_type": "stream",
     "text": [
      "Typings most likely to pair with 'Grass':\n",
      "[('Grass', 1.0), ('Poison', 0.1308411214953271), ('Bug', 0.056074766355140186), ('Flying', 0.056074766355140186), ('Ghost', 0.056074766355140186), ('Fairy', 0.04672897196261682), ('Psychic', 0.03738317757009346), ('Dark', 0.03738317757009346), ('Water', 0.028037383177570093), ('Fighting', 0.028037383177570093), ('Steel', 0.028037383177570093), ('Dragon', 0.028037383177570093), ('Rock', 0.01869158878504673), ('Ice', 0.01869158878504673), ('Normal', 0.01869158878504673), ('Ground', 0.009345794392523366)]\n",
      "\n",
      "Typings most likely to pair with 'Dragon':\n",
      "[('Dragon', 1.0), ('Flying', 0.10714285714285714), ('Ground', 0.10714285714285714), ('Ghost', 0.07142857142857142), ('Dark', 0.07142857142857142), ('Water', 0.05357142857142857), ('Poison', 0.05357142857142857), ('Grass', 0.05357142857142857), ('Psychic', 0.03571428571428571), ('Steel', 0.03571428571428571), ('Fire', 0.03571428571428571), ('Electric', 0.03571428571428571), ('Rock', 0.03571428571428571), ('Fighting', 0.03571428571428571), ('Ice', 0.017857142857142856), ('Normal', 0.017857142857142856)]\n",
      "\n",
      "\n",
      "Colors likely to pair with 'salmon':\n",
      "[('salmon', 1.0), ('red', 0.5), ('darkslategray', 0.5), ('chocolate', 0.25), ('wheat', 0.25), ('darkgray', 0.25), ('darkolivegreen', 0.25), ('green', 0.25), ('khaki', 0.25), ('sienna', 0.25)]\n",
      "\n",
      "Colors likely to pair with 'green':\n",
      "[('green', 1.0), ('darkslategray', 0.3611111111111111), ('darkseagreen', 0.3148148148148148), ('dimgray', 0.29629629629629634), ('gray', 0.212962962962963), ('darkkhaki', 0.2037037037037037), ('darkolivegreen', 0.1574074074074074), ('khaki', 0.14814814814814817), ('snow', 0.1388888888888889), ('tan', 0.1388888888888889), ('silver', 0.12962962962962965), ('darkgray', 0.12037037037037038), ('indianred', 0.10185185185185185), ('seagreen', 0.09259259259259259), ('yellowgreen', 0.08333333333333333), ('mediumseagreen', 0.08333333333333333), ('cadetblue', 0.07407407407407408), ('olivedrab', 0.07407407407407408), ('palevioletred', 0.06481481481481483), ('slategray', 0.06481481481481483), ('peru', 0.05555555555555556), ('wheat', 0.05555555555555556), ('gainsboro', 0.05555555555555556), ('rosybrown', 0.05555555555555556), ('burlywood', 0.046296296296296294), ('mediumaquamarine', 0.03703703703703704), ('palegoldenrod', 0.03703703703703704), ('sienna', 0.03703703703703704), ('sandybrown', 0.03703703703703704), ('darksalmon', 0.02777777777777778), ('lightgray', 0.01851851851851852), ('ghostwhite', 0.01851851851851852), ('lightslategray', 0.01851851851851852), ('goldenrod', 0.01851851851851852), ('chocolate', 0.01851851851851852), ('brown', 0.01851851851851852), ('lightcoral', 0.00925925925925926), ('cornflowerblue', 0.00925925925925926), ('salmon', 0.00925925925925926), ('beige', 0.00925925925925926), ('blanchedalmond', 0.00925925925925926), ('steelblue', 0.00925925925925926), ('teal', 0.00925925925925926), ('lightsteelblue', 0.00925925925925926), ('crimson', 0.00925925925925926)]\n"
     ]
    }
   ],
   "source": [
    "print(\"Typings most likely to pair with 'Grass':\")\n",
    "print(likely_co_values(len(new_poke_dict), typing_co_occurrences, \"Grass\").most_common())\n",
    "print()\n",
    "print(\"Typings most likely to pair with 'Dragon':\")\n",
    "print(likely_co_values(len(new_poke_dict), typing_co_occurrences, \"Dragon\").most_common())\n",
    "print()\n",
    "print()\n",
    "print(\"Colors likely to pair with 'salmon':\")\n",
    "print(likely_co_values(len(new_poke_dict), color_co_occurrences, \"salmon\").most_common(10))\n",
    "print()\n",
    "print(\"Colors likely to pair with 'green':\")\n",
    "print(likely_co_values(len(new_poke_dict), color_co_occurrences, \"green\").most_common(50))\n"
   ]
  },
  {
   "cell_type": "code",
   "execution_count": 10,
   "metadata": {},
   "outputs": [],
   "source": [
    "import networkx as nx\n",
    "\n",
    "def create_pokemon_graph(data, key):\n",
    "\n",
    "    #--- Your code starts here\n",
    "    graph = nx.Graph()\n",
    "\n",
    "    nodes = []\n",
    "    edges = []\n",
    "    for pokemon in data:\n",
    "        for node in pokemon[key]:\n",
    "            nodes.append(node)\n",
    "            for item in pokemon[key]:\n",
    "                edges.append((item, node))\n",
    "\n",
    "    graph.add_nodes_from(nodes)\n",
    "    graph.add_edges_from(edges)\n",
    "\n",
    "    return graph"
   ]
  },
  {
   "cell_type": "code",
   "execution_count": 11,
   "metadata": {},
   "outputs": [
    {
     "name": "stdout",
     "output_type": "stream",
     "text": [
      "('black', 'black')\n",
      "('black', 'darkseagreen')\n",
      "('black', 'gray')\n",
      "('black', 'green')\n",
      "('black', 'white')\n",
      "('black', 'mediumaquamarine')\n",
      "('black', 'palevioletred')\n",
      "('black', 'slategray')\n",
      "('black', 'cadetblue')\n",
      "('black', 'seagreen')\n",
      "('black', 'snow')\n",
      "('black', 'bisque')\n",
      "('black', 'burlywood')\n",
      "('black', 'red')\n",
      "('black', 'rosybrown')\n",
      "('black', 'chocolate')\n",
      "('black', 'salmon')\n",
      "('black', 'wheat')\n",
      "('black', 'blue')\n",
      "('black', 'skyblue')\n",
      "('black', 'tan')\n",
      "('black', 'dimgray')\n",
      "('black', 'silver')\n",
      "('black', 'khaki')\n",
      "('black', 'peru')\n",
      "('black', 'darkkhaki')\n",
      "('black', 'olivedrab')\n",
      "('black', 'yellowgreen')\n",
      "('black', 'ghostwhite')\n",
      "('black', 'indianred')\n",
      "('black', 'brown')\n",
      "('black', 'lightgray')\n",
      "('black', 'darkolivegreen')\n",
      "('black', 'yellow')\n",
      "('black', 'gainsboro')\n",
      "('black', 'sandybrown')\n",
      "('black', 'sienna')\n",
      "('black', 'palegoldenrod')\n",
      "('black', 'coral')\n",
      "('black', 'darkgray')\n",
      "('black', 'purple')\n",
      "('black', 'darksalmon')\n",
      "('black', 'plum')\n",
      "('black', 'saddlebrown')\n",
      "('black', 'lightsteelblue')\n",
      "('black', 'teal')\n",
      "('black', 'mistyrose')\n",
      "('black', 'pink')\n",
      "('black', 'antiquewhite')\n",
      "('black', 'forestgreen')\n",
      "('black', 'steelblue')\n",
      "('black', 'darkslateblue')\n",
      "('black', 'lightslategray')\n",
      "('black', 'darkslategray')\n",
      "('black', 'lavender')\n",
      "('black', 'goldenrod')\n",
      "('black', 'lightpink')\n",
      "('black', 'thistle')\n",
      "('black', 'mediumseagreen')\n",
      "('black', 'mintcream')\n",
      "('black', 'tomato')\n",
      "('black', 'mediumpurple')\n",
      "('black', 'cornflowerblue')\n",
      "('black', 'beige')\n",
      "('black', 'mediumturquoise')\n",
      "('black', 'lightblue')\n",
      "('black', 'lightcoral')\n",
      "('black', 'peachpuff')\n",
      "('black', 'darkturquoise')\n",
      "('black', 'navajowhite')\n",
      "('black', 'blanchedalmond')\n",
      "('black', 'lightseagreen')\n",
      "('black', 'powderblue')\n",
      "('black', 'firebrick')\n",
      "('black', 'lightgoldenrodyellow')\n",
      "('black', 'whitesmoke')\n",
      "('black', 'floralwhite')\n",
      "('black', 'paleturquoise')\n",
      "('black', 'papayawhip')\n",
      "('black', 'darkcyan')\n",
      "('black', 'dodgerblue')\n",
      "('black', 'midnightblue')\n"
     ]
    }
   ],
   "source": [
    "pokemon_color_graph = create_pokemon_graph(new_poke_dict, 'colors')\n",
    "\n",
    "for edge in pokemon_color_graph.edges:\n",
    "    if (edge[0] == 'black'):\n",
    "        print(edge)"
   ]
  },
  {
   "cell_type": "code",
   "execution_count": 19,
   "metadata": {},
   "outputs": [
    {
     "data": {
      "text/plain": [
       "[((('Normal',), 'white'), 64),\n",
       " ((('Normal',), 'black'), 53),\n",
       " ((('Water',), 'white'), 50),\n",
       " ((('Water',), 'black'), 44),\n",
       " ((('Water',), 'blue'), 41),\n",
       " ((('Grass',), 'white'), 37),\n",
       " ((('Psychic',), 'white'), 36),\n",
       " ((('Grass',), 'black'), 35),\n",
       " ((('Fire',), 'white'), 31),\n",
       " ((('Grass',), 'green'), 28)]"
      ]
     },
     "execution_count": 19,
     "metadata": {},
     "output_type": "execute_result"
    }
   ],
   "source": [
    "color_type_combos = []\n",
    "\n",
    "skip_white = False\n",
    "\n",
    "for poke in new_poke_dict:\n",
    "    for color in poke['colors']:\n",
    "        if len(poke['types']) > 1:\n",
    "            type_tuple = (poke['types'][0], poke['types'][1])\n",
    "        else:\n",
    "            type_tuple = (poke['types'][0],)\n",
    "\n",
    "        if (color != 'white' or not skip_white):\n",
    "            combo_tuple = (type_tuple, color)\n",
    "            color_type_combos.append(combo_tuple)\n",
    "\n",
    "combo_counter = Counter(color_type_combos)\n",
    "\n",
    "combo_counter.most_common(10)"
   ]
  }
 ],
 "metadata": {
  "interpreter": {
   "hash": "81794d4967e6c3204c66dcd87b604927b115b27c00565d3d43f05ba2f3a2cb0d"
  },
  "kernelspec": {
   "display_name": "Python 3.9.0 64-bit",
   "language": "python",
   "name": "python3"
  },
  "language_info": {
   "codemirror_mode": {
    "name": "ipython",
    "version": 3
   },
   "file_extension": ".py",
   "mimetype": "text/x-python",
   "name": "python",
   "nbconvert_exporter": "python",
   "pygments_lexer": "ipython3",
   "version": "3.9.0"
  },
  "orig_nbformat": 4
 },
 "nbformat": 4,
 "nbformat_minor": 2
}
