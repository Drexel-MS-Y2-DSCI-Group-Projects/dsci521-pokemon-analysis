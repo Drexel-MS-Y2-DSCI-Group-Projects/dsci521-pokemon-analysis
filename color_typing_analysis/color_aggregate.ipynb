{
 "cells": [
  {
   "cell_type": "code",
   "execution_count": 3,
   "metadata": {},
   "outputs": [],
   "source": [
    "import json\n",
    "from collections import Counter\n",
    "from PIL import ImageColor\n",
    "from scipy.spatial import KDTree\n",
    "from webcolors import (\n",
    "    CSS3_HEX_TO_NAMES,\n",
    "    hex_to_rgb,\n",
    ")\n",
    "\n",
    "with open('../merged.json') as p:\n",
    "    data = json.load(p)"
   ]
  },
  {
   "cell_type": "markdown",
   "metadata": {},
   "source": [
    "We will be converting the Pokemons' hex code color values into real color names, for easier analysis later on."
   ]
  },
  {
   "cell_type": "code",
   "execution_count": 4,
   "metadata": {},
   "outputs": [],
   "source": [
    "css3_db = CSS3_HEX_TO_NAMES\n",
    "\n",
    "# Function to get the color name from an RGB value\n",
    "def convert_rgb_to_names(rgb_tuple):\n",
    "    \n",
    "    # a dictionary of all the hex and their respective names in css3\n",
    "    names = []\n",
    "    rgb_values = []    \n",
    "    for color_hex, color_name in css3_db.items():\n",
    "        names.append(color_name)\n",
    "        rgb_values.append(hex_to_rgb(color_hex))\n",
    "    \n",
    "    kdt_db = KDTree(rgb_values)    \n",
    "    distance, index = kdt_db.query(rgb_tuple)\n",
    "    return names[index]"
   ]
  },
  {
   "cell_type": "code",
   "execution_count": 59,
   "metadata": {},
   "outputs": [],
   "source": [
    "def remake_pokemon_json(data, use_main_color = True, skip_colors=[]):\n",
    "    new_dict = []\n",
    "    for dex_num, poke in data.items():\n",
    "        new_poke_dict = dict()\n",
    "        color_names = set()\n",
    "\n",
    "        for color in poke['colors']:\n",
    "            color_rgb = ImageColor.getcolor(color, \"RGB\") # conver hex code to rgb\n",
    "            color_name = convert_rgb_to_names(color_rgb) # get color name based on rgb values\n",
    "\n",
    "            if (color_name not in skip_colors):\n",
    "                color_names.add(color_name)\n",
    "\n",
    "\n",
    "        # Set up the new pokemon object\n",
    "\n",
    "        new_poke_dict['id'] = dex_num\n",
    "\n",
    "        try:\n",
    "            new_poke_dict['name'] = poke['name']\n",
    "        except:\n",
    "            new_poke_dict['name'] = ''\n",
    "\n",
    "        new_poke_dict['types'] = poke['types']\n",
    "\n",
    "        try:\n",
    "            new_poke_dict['main_color'] = poke['color']\n",
    "        except:\n",
    "            new_poke_dict['main_color'] = ''\n",
    "\n",
    "        if (use_main_color and new_poke_dict['main_color'] != ''):\n",
    "            color_names.add(new_poke_dict['main_color'])\n",
    "\n",
    "        new_poke_dict['colors'] = list(color_names)\n",
    "        new_poke_dict['colors'].sort()\n",
    "\n",
    "        new_dict.append(new_poke_dict)\n",
    "\n",
    "    return new_dict"
   ]
  },
  {
   "cell_type": "code",
   "execution_count": 60,
   "metadata": {},
   "outputs": [],
   "source": [
    "new_poke_dict = remake_pokemon_json(data, skip_colors=['white','black'])\n",
    "\n",
    "with open('data/new_pokemon_list.json', 'w') as outfile:\n",
    "    json.dump(new_poke_dict, outfile)"
   ]
  },
  {
   "cell_type": "code",
   "execution_count": 61,
   "metadata": {},
   "outputs": [
    {
     "name": "stdout",
     "output_type": "stream",
     "text": [
      "{'id': '001', 'name': 'bulbasaur', 'types': ['Grass', 'Poison'], 'main_color': 'green', 'colors': ['darkseagreen', 'gray', 'green']}\n",
      "{'id': '111', 'name': 'rhyhorn', 'types': ['Ground', 'Rock'], 'main_color': 'gray', 'colors': ['darkgray', 'darkslategray', 'dimgray', 'gray']}\n",
      "{'id': '271', 'name': 'lombre', 'types': ['Water', 'Grass'], 'main_color': 'green', 'colors': ['darkkhaki', 'green', 'olivedrab', 'silver']}\n"
     ]
    }
   ],
   "source": [
    "print(new_poke_dict[0])\n",
    "print(new_poke_dict[110])\n",
    "print(new_poke_dict[270])"
   ]
  },
  {
   "cell_type": "markdown",
   "metadata": {},
   "source": [
    "Curious to see what the counts are for individual colors, and then also typing(s)"
   ]
  },
  {
   "cell_type": "code",
   "execution_count": 62,
   "metadata": {},
   "outputs": [
    {
     "data": {
      "text/plain": [
       "[('darkslategray', 388),\n",
       " ('dimgray', 284),\n",
       " ('gray', 245),\n",
       " ('blue', 157),\n",
       " ('silver', 157),\n",
       " ('darkgray', 157),\n",
       " ('brown', 145),\n",
       " ('indianred', 112),\n",
       " ('snow', 110),\n",
       " ('green', 108)]"
      ]
     },
     "execution_count": 62,
     "metadata": {},
     "output_type": "execute_result"
    }
   ],
   "source": [
    "hex_codes = []\n",
    "\n",
    "for poke in new_poke_dict:\n",
    "    color_list = poke['colors']\n",
    "    hex_codes.extend(color_list)\n",
    "\n",
    "hex_codes_count = Counter(hex_codes)\n",
    "\n",
    "hex_codes_count.most_common(10)"
   ]
  },
  {
   "cell_type": "code",
   "execution_count": 92,
   "metadata": {},
   "outputs": [
    {
     "name": "stdout",
     "output_type": "stream",
     "text": [
      "[(('Normal',), 69), (('Water',), 67), (('Grass',), 43), (('Psychic',), 37), (('Fire',), 33), (('Electric',), 32), (('Fighting',), 27), (('Normal', 'Flying'), 26), (('Bug',), 19), (('Fairy',), 18)]\n"
     ]
    }
   ],
   "source": [
    "typings = []\n",
    "all_typings = []\n",
    "\n",
    "for poke in new_poke_dict:\n",
    "    for type in poke['types']:\n",
    "        all_typings.append(type)\n",
    "\n",
    "    if len(poke['types']) > 1:\n",
    "        type_tuple = (poke['types'][0], poke['types'][1])\n",
    "    else:\n",
    "        type_tuple = (poke['types'][0],)\n",
    "    \n",
    "    typings.append(type_tuple)\n",
    "\n",
    "typings_count = Counter(typings)\n",
    "all_typings = set(all_typings)\n",
    "all_typings = list(all_typings)\n",
    "all_typings.sort()\n",
    "\n",
    "print(typings_count.most_common(10))"
   ]
  },
  {
   "cell_type": "markdown",
   "metadata": {},
   "source": [
    "Using our new Pokemon objects, let's see what the co-occurrences are like for colors and typings (at first, let's look at them individually). To do this, we can make a reusable function that will aggregate the co-occurrences of values based on a key we choose:"
   ]
  },
  {
   "cell_type": "code",
   "execution_count": 96,
   "metadata": {},
   "outputs": [],
   "source": [
    "from collections import defaultdict, Counter\n",
    "\n",
    "def count_co_occurrences(pokemon_data, key):\n",
    "    \n",
    "    #--- Your code starts here\n",
    "\n",
    "    co_occurrences = defaultdict(lambda: Counter())\n",
    "\n",
    "    for pokemon in pokemon_data:\n",
    "        for value in pokemon[key]:\n",
    "            co_occur_list = [ val for val in pokemon[key]]\n",
    "            co_occurrences[value] += Counter(co_occur_list)\n",
    "\n",
    "    #--- Your code ends here            \n",
    "    \n",
    "    return co_occurrences"
   ]
  },
  {
   "cell_type": "code",
   "execution_count": 100,
   "metadata": {},
   "outputs": [
    {
     "name": "stdout",
     "output_type": "stream",
     "text": [
      "Grass type co-occurrences:\n",
      "Counter({'Grass': 107, 'Poison': 14, 'Bug': 6, 'Flying': 6, 'Ghost': 6, 'Fairy': 5, 'Psychic': 4, 'Dark': 4, 'Water': 3, 'Fighting': 3, 'Steel': 3, 'Dragon': 3, 'Rock': 2, 'Ice': 2, 'Normal': 2, 'Ground': 1})\n",
      "\n",
      "Water type co-occurrences:\n",
      "Counter({'Water': 142, 'Rock': 11, 'Ground': 9, 'Flying': 8, 'Ice': 7, 'Poison': 6, 'Psychic': 5, 'Bug': 5, 'Fairy': 4, 'Dark': 4, 'Dragon': 3, 'Grass': 3, 'Ghost': 3, 'Fighting': 2, 'Electric': 2, 'Steel': 1, 'Normal': 1, 'Fire': 1})\n",
      "\n",
      "Fire type co-occurrences:\n",
      "Counter({'Fire': 71, 'Flying': 6, 'Fighting': 6, 'Ghost': 4, 'Bug': 4, 'Rock': 3, 'Dark': 3, 'Ground': 2, 'Psychic': 2, 'Dragon': 2, 'Normal': 2, 'Poison': 2, 'Steel': 1, 'Water': 1})\n",
      "\n",
      "Number of times 'Blue' and 'Orange' co-occur:\n",
      "0\n",
      "\n",
      "Number of times 'Black' and 'Salmon' co-occur:\n",
      "0\n"
     ]
    }
   ],
   "source": [
    "# Typing co-occurrences\n",
    "typing_co_occurrences = count_co_occurrences(new_poke_dict, 'types')\n",
    "\n",
    "# color co-occurrences\n",
    "color_co_occurrences = count_co_occurrences(new_poke_dict, 'colors')\n",
    "\n",
    "print(\"Grass type co-occurrences:\")\n",
    "print(typing_co_occurrences['Grass'])\n",
    "print()\n",
    "print(\"Water type co-occurrences:\")\n",
    "print(typing_co_occurrences['Water'])\n",
    "print()\n",
    "print(\"Fire type co-occurrences:\")\n",
    "print(typing_co_occurrences['Fire'])\n",
    "print()\n",
    "print(\"Number of times 'blue' and 'green' co-occur:\")\n",
    "print(color_co_occurrences['blue']['green'])\n",
    "print()\n",
    "print(\"Number of times 'Black' and 'Salmon' co-occur:\")\n",
    "print(color_co_occurrences['black']['salmon'])\n"
   ]
  },
  {
   "cell_type": "markdown",
   "metadata": {},
   "source": [
    "The above gives us some interesting information about what types and colors co-occur the most with each other. As we see, grass and poison co-occur only 14 times among 905 records, while grass and fire never occur together (makes some sense). For the colors, we can see that black and white occur a lot together, while black and 'salmon' occur together barely at all.\n",
    "\n",
    "Let us take this a little further, and see what the probabilities are like for certain typings to co-occur, and certain colors to co-occur."
   ]
  },
  {
   "cell_type": "code",
   "execution_count": 76,
   "metadata": {},
   "outputs": [],
   "source": [
    "# Function to get probability of one value occurring in the total number\n",
    "def prob_value(total, co_occurrences, value):\n",
    "    probability = co_occurrences[value][value] / total\n",
    "    return round(probability, 5)\n",
    "\n",
    "# Function to get probability that 2 values occur together\n",
    "def prob_value_pair(total, co_occurrences, value1, value2):\n",
    "    probability = co_occurrences[value1][value2] / total\n",
    "    return round(probability, 5)\n",
    "\n",
    "# Final function to get the probability of a value given another value\n",
    "def prob_value_given_value(total, co_occurrences, value1, value2):\n",
    "    prob_pair = prob_value_pair(total, co_occurrences, value1, value2)\n",
    "    prob_b = prob_value(total, co_occurrences, value2)\n",
    "\n",
    "    probability = prob_pair / prob_b\n",
    "    return round(probability, 5)"
   ]
  },
  {
   "cell_type": "code",
   "execution_count": 77,
   "metadata": {},
   "outputs": [
    {
     "name": "stdout",
     "output_type": "stream",
     "text": [
      "Probability of a grass type:\n",
      "0.11823\n",
      "\n",
      "Probability of a grass/poison type:\n",
      "0.01547\n",
      "\n",
      "Probability a Pokemon will be Poison given it is Grass:\n",
      "0.13085\n",
      "\n",
      "Probability that a Pokemon is both green and salmon colored:\n",
      "0.0011\n",
      "\n",
      "Probability a Pokemon has the color 'salmon' given that it has 'green':\n",
      "0.00922\n"
     ]
    }
   ],
   "source": [
    "print(\"Probability of a grass type:\")\n",
    "print(prob_value(len(new_poke_dict), typing_co_occurrences, 'Grass'))\n",
    "print()\n",
    "print(\"Probability of a grass/poison type:\")\n",
    "print(prob_value_pair(len(new_poke_dict), typing_co_occurrences, 'Grass', 'Poison'))\n",
    "print()\n",
    "print(\"Probability a Pokemon will be Poison given it is Grass:\")\n",
    "print(prob_value_given_value(len(new_poke_dict), typing_co_occurrences, 'Poison', 'Grass'))\n",
    "print()\n",
    "print(\"Probability that a Pokemon is both green and salmon colored:\")\n",
    "print(prob_value_pair(len(new_poke_dict), color_co_occurrences, 'salmon', 'green'))\n",
    "print()\n",
    "print(\"Probability a Pokemon has the color 'salmon' given that it has 'green':\")\n",
    "print(prob_value_given_value(len(new_poke_dict), color_co_occurrences, 'salmon', 'green'))"
   ]
  },
  {
   "cell_type": "markdown",
   "metadata": {},
   "source": [
    "The above gives us some good details about the likelihood that certain types and colors will co-occur, both just overall and if one is already set to occur. For example, while Grass/Poison is only probable 1.55% of the time, if a Pokemon IS a Grass type, the probability it will be Poison is higher at 13.08%.\n",
    "\n",
    "Let's take a look at the complete probabilities for certain types and colors."
   ]
  },
  {
   "cell_type": "code",
   "execution_count": 40,
   "metadata": {},
   "outputs": [],
   "source": [
    "def likely_co_values(total, co_occurrences, value1):\n",
    "    ## initialize a Counter() for the co-ingredient probabilities\n",
    "    probs = Counter()\n",
    "\n",
    "    for value2 in co_occurrences[value1]:\n",
    "        probs[value2] += prob_value_given_value(total, co_occurrences, value2, value1)\n",
    "\n",
    "    return probs"
   ]
  },
  {
   "cell_type": "code",
   "execution_count": 78,
   "metadata": {},
   "outputs": [
    {
     "name": "stdout",
     "output_type": "stream",
     "text": [
      "Typings most likely to pair with 'Grass':\n",
      "[('Grass', 1.0), ('Poison', 0.13085), ('Bug', 0.05608), ('Flying', 0.05608), ('Ghost', 0.05608), ('Fairy', 0.04669), ('Psychic', 0.03738), ('Dark', 0.03738), ('Water', 0.028), ('Fighting', 0.028), ('Steel', 0.028), ('Dragon', 0.028), ('Rock', 0.01869), ('Ice', 0.01869), ('Normal', 0.01869), ('Ground', 0.0093)]\n",
      "\n",
      "Typings most likely to pair with 'Dragon':\n",
      "[('Dragon', 1.0), ('Flying', 0.10714), ('Ground', 0.10714), ('Ghost', 0.07143), ('Dark', 0.07143), ('Water', 0.05349), ('Poison', 0.05349), ('Grass', 0.05349), ('Psychic', 0.03571), ('Steel', 0.03571), ('Fire', 0.03571), ('Electric', 0.03571), ('Rock', 0.03571), ('Fighting', 0.03571), ('Ice', 0.01778), ('Normal', 0.01778)]\n",
      "\n",
      "\n",
      "Colors likely to pair with 'salmon':\n",
      "[('salmon', 1.0), ('red', 0.5), ('darkslategray', 0.5), ('chocolate', 0.24887), ('wheat', 0.24887), ('darkgray', 0.24887), ('darkolivegreen', 0.24887), ('green', 0.24887), ('khaki', 0.24887), ('sienna', 0.24887)]\n",
      "\n",
      "Colors likely to pair with 'green':\n",
      "[('green', 1.0), ('darkslategray', 0.36107), ('darkseagreen', 0.31481), ('dimgray', 0.2963), ('gray', 0.21292), ('darkkhaki', 0.2037), ('darkolivegreen', 0.15737), ('khaki', 0.14815), ('snow', 0.13885), ('tan', 0.13885)]\n"
     ]
    }
   ],
   "source": [
    "print(\"Typings most likely to pair with 'Grass':\")\n",
    "print(likely_co_values(len(new_poke_dict), typing_co_occurrences, \"Grass\").most_common())\n",
    "print()\n",
    "print(\"Typings most likely to pair with 'Dragon':\")\n",
    "print(likely_co_values(len(new_poke_dict), typing_co_occurrences, \"Dragon\").most_common())\n",
    "print()\n",
    "print()\n",
    "print(\"Colors likely to pair with 'salmon':\")\n",
    "print(likely_co_values(len(new_poke_dict), color_co_occurrences, \"salmon\").most_common(10))\n",
    "print()\n",
    "print(\"Colors likely to pair with 'green':\")\n",
    "print(likely_co_values(len(new_poke_dict), color_co_occurrences, \"green\").most_common(10))\n"
   ]
  },
  {
   "cell_type": "markdown",
   "metadata": {},
   "source": [
    "Using our 'likely_co_values\" function, this gives us all the probabilities that, given a certain typing, a Pokemon will be another type. We can use our previously-created 'all_typings' variable to cycle through all of them and aggregate all the likely pairings into 1 object. With that, we can then output a graph showing the likelihood types will co-occur."
   ]
  },
  {
   "cell_type": "code",
   "execution_count": 108,
   "metadata": {},
   "outputs": [],
   "source": [
    "def get_all_likely_pairings(total, co_occurrences, types):\n",
    "    likely_pairings = dict()\n",
    "    for type in types:\n",
    "        likely_values = likely_co_values(total, co_occurrences, type)\n",
    "        likely_values = dict(likely_values)\n",
    "\n",
    "        for type2 in types:\n",
    "            if (type2 not in likely_values.keys()):\n",
    "                likely_values[type2] = 0\n",
    "\n",
    "        likely_values.pop(type)\n",
    "\n",
    "        likely_pairings[type] = likely_values\n",
    "\n",
    "    return likely_pairings"
   ]
  },
  {
   "cell_type": "code",
   "execution_count": 109,
   "metadata": {},
   "outputs": [
    {
     "name": "stdout",
     "output_type": "stream",
     "text": [
      "{'Bug': {'Flying': 0.1529, 'Poison': 0.14118, 'Grass': 0.07059, 'Steel': 0.05877, 'Rock': 0.07059, 'Fighting': 0.03524, 'Water': 0.05877, 'Ground': 0.01171, 'Ghost': 0.01171, 'Electric': 0.04706, 'Fire': 0.04706, 'Fairy': 0.02353, 'Psychic': 0.02353, 'Ice': 0.02353, 'Dark': 0, 'Dragon': 0, 'Normal': 0}, 'Dark': {'Flying': 0.0892, 'Ice': 0.03571, 'Fire': 0.05349, 'Rock': 0.01778, 'Grass': 0.07143, 'Ghost': 0.03571, 'Water': 0.07143, 'Poison': 0.07143, 'Ground': 0.05349, 'Fighting': 0.07143, 'Steel': 0.03571, 'Dragon': 0.07143, 'Psychic': 0.03571, 'Fairy': 0.05349, 'Normal': 0.01778, 'Electric': 0.01778, 'Bug': 0}, 'Dragon': {'Flying': 0.10714, 'Water': 0.05349, 'Ground': 0.10714, 'Psychic': 0.03571, 'Steel': 0.03571, 'Ghost': 0.07143, 'Dark': 0.07143, 'Fire': 0.03571, 'Electric': 0.03571, 'Ice': 0.01778, 'Poison': 0.05349, 'Rock': 0.03571, 'Normal': 0.01778, 'Fighting': 0.03571, 'Grass': 0.05349, 'Bug': 0, 'Fairy': 0}, 'Electric': {'Steel': 0.07018, 'Flying': 0.05256, 'Water': 0.03509, 'Ghost': 0.01747, 'Bug': 0.07018, 'Ground': 0.01747, 'Dragon': 0.03509, 'Normal': 0.03509, 'Fairy': 0.03509, 'Poison': 0.03509, 'Dark': 0.01747, 'Ice': 0.01747, 'Fighting': 0, 'Fire': 0, 'Grass': 0, 'Psychic': 0, 'Rock': 0}, 'Fairy': {'Normal': 0.07273, 'Psychic': 0.1272, 'Flying': 0.05447, 'Water': 0.07273, 'Steel': 0.07273, 'Grass': 0.09083, 'Electric': 0.03637, 'Rock': 0.03637, 'Bug': 0.03637, 'Ghost': 0.0181, 'Dark': 0.05447, 'Dragon': 0, 'Fighting': 0, 'Fire': 0, 'Ground': 0, 'Ice': 0, 'Poison': 0}, 'Fighting': {'Water': 0.03226, 'Bug': 0.04831, 'Fire': 0.09677, 'Grass': 0.04831, 'Psychic': 0.04831, 'Steel': 0.04831, 'Poison': 0.04831, 'Dark': 0.06452, 'Rock': 0.01606, 'Flying': 0.01606, 'Ice': 0.01606, 'Normal': 0.03226, 'Dragon': 0.03226, 'Ghost': 0.01606, 'Electric': 0, 'Fairy': 0, 'Ground': 0}, 'Fire': {'Flying': 0.08451, 'Rock': 0.04219, 'Dark': 0.04219, 'Fighting': 0.08451, 'Ground': 0.02817, 'Steel': 0.01402, 'Psychic': 0.02817, 'Ghost': 0.05634, 'Bug': 0.05634, 'Dragon': 0.02817, 'Normal': 0.02817, 'Water': 0.01402, 'Poison': 0.02817, 'Electric': 0, 'Fairy': 0, 'Grass': 0, 'Ice': 0}, 'Flying': {'Fire': 0.05825, 'Bug': 0.12618, 'Normal': 0.25244, 'Poison': 0.02908, 'Water': 0.07767, 'Rock': 0.03884, 'Ice': 0.01942, 'Electric': 0.02908, 'Dragon': 0.05825, 'Fairy': 0.02908, 'Psychic': 0.05825, 'Grass': 0.05825, 'Dark': 0.0485, 'Ground': 0.02908, 'Steel': 0.02908, 'Ghost': 0.01942, 'Fighting': 0.00967}, 'Ghost': {'Poison': 0.05761, 'Bug': 0.01914, 'Dark': 0.03846, 'Flying': 0.03846, 'Ice': 0.01914, 'Electric': 0.01914, 'Dragon': 0.07692, 'Water': 0.05761, 'Fire': 0.07692, 'Ground': 0.09607, 'Steel': 0.05761, 'Grass': 0.11538, 'Psychic': 0.03846, 'Fairy': 0.01914, 'Fighting': 0.01914, 'Normal': 0, 'Rock': 0}, 'Grass': {'Poison': 0.13085, 'Bug': 0.05608, 'Psychic': 0.03738, 'Flying': 0.05608, 'Water': 0.028, 'Dark': 0.03738, 'Fighting': 0.028, 'Rock': 0.01869, 'Ground': 0.0093, 'Ice': 0.01869, 'Fairy': 0.04669, 'Normal': 0.01869, 'Steel': 0.028, 'Ghost': 0.05608, 'Dragon': 0.028, 'Electric': 0, 'Fire': 0}, 'Ground': {'Poison': 0.02941, 'Rock': 0.13229, 'Water': 0.13229, 'Flying': 0.04405, 'Steel': 0.02941, 'Ice': 0.04405, 'Bug': 0.01464, 'Fire': 0.02941, 'Dragon': 0.08824, 'Psychic': 0.02941, 'Grass': 0.01464, 'Dark': 0.04405, 'Electric': 0.01464, 'Ghost': 0.07346, 'Normal': 0.02941, 'Fairy': 0, 'Fighting': 0}, 'Ice': {'Water': 0.17064, 'Psychic': 0.07307, 'Flying': 0.04879, 'Dark': 0.04879, 'Ground': 0.07307, 'Grass': 0.04879, 'Ghost': 0.02428, 'Dragon': 0.02428, 'Rock': 0.04879, 'Fighting': 0.02428, 'Bug': 0.04879, 'Electric': 0.02428, 'Fairy': 0, 'Fire': 0, 'Normal': 0, 'Poison': 0, 'Steel': 0}, 'Normal': {'Flying': 0.22223, 'Fairy': 0.03419, 'Psychic': 0.0427, 'Water': 0.00851, 'Grass': 0.01709, 'Ground': 0.01709, 'Fire': 0.01709, 'Electric': 0.01709, 'Fighting': 0.01709, 'Dragon': 0.00851, 'Dark': 0.00851, 'Bug': 0, 'Ghost': 0, 'Ice': 0, 'Poison': 0, 'Rock': 0, 'Steel': 0}, 'Poison': {'Grass': 0.1972, 'Bug': 0.16902, 'Ground': 0.02817, 'Flying': 0.04219, 'Water': 0.08451, 'Ghost': 0.04219, 'Dark': 0.05634, 'Fighting': 0.04219, 'Dragon': 0.04219, 'Fire': 0.02817, 'Rock': 0.01402, 'Electric': 0.02817, 'Fairy': 0, 'Ice': 0, 'Normal': 0, 'Psychic': 0, 'Steel': 0}, 'Psychic': {'Water': 0.0549, 'Grass': 0.04396, 'Fairy': 0.07688, 'Ice': 0.03292, 'Flying': 0.06594, 'Normal': 0.0549, 'Fighting': 0.03292, 'Rock': 0.02198, 'Ground': 0.02198, 'Steel': 0.07688, 'Dragon': 0.02198, 'Fire': 0.02198, 'Dark': 0.02198, 'Ghost': 0.02198, 'Bug': 0.02198, 'Electric': 0, 'Poison': 0}, 'Rock': {'Ground': 0.1363, 'Water': 0.1666, 'Flying': 0.06061, 'Bug': 0.09091, 'Fire': 0.04539, 'Dark': 0.01508, 'Steel': 0.10599, 'Psychic': 0.0303, 'Grass': 0.0303, 'Fighting': 0.01508, 'Dragon': 0.0303, 'Ice': 0.0303, 'Fairy': 0.0303, 'Poison': 0.01508, 'Electric': 0, 'Ghost': 0, 'Normal': 0}, 'Steel': {'Electric': 0.07143, 'Bug': 0.0892, 'Ground': 0.03571, 'Flying': 0.05349, 'Fairy': 0.07143, 'Rock': 0.12492, 'Psychic': 0.12492, 'Water': 0.01778, 'Fighting': 0.05349, 'Dragon': 0.03571, 'Fire': 0.01778, 'Grass': 0.05349, 'Dark': 0.03571, 'Ghost': 0.05349, 'Ice': 0, 'Normal': 0, 'Poison': 0}, 'Water': {'Fighting': 0.01408, 'Poison': 0.04225, 'Psychic': 0.03518, 'Ice': 0.04926, 'Flying': 0.05634, 'Rock': 0.07743, 'Electric': 0.01408, 'Fairy': 0.02817, 'Ground': 0.06335, 'Dragon': 0.02109, 'Grass': 0.02109, 'Bug': 0.03518, 'Dark': 0.02817, 'Steel': 0.00701, 'Normal': 0.00701, 'Ghost': 0.02109, 'Fire': 0.00701}}\n"
     ]
    }
   ],
   "source": [
    "all_likely_pairings = get_all_likely_pairings(len(new_poke_dict), typing_co_occurrences, all_typings)\n",
    "\n",
    "print(all_likely_pairings)"
   ]
  }
 ],
 "metadata": {
  "interpreter": {
   "hash": "81794d4967e6c3204c66dcd87b604927b115b27c00565d3d43f05ba2f3a2cb0d"
  },
  "kernelspec": {
   "display_name": "Python 3.9.0 64-bit",
   "language": "python",
   "name": "python3"
  },
  "language_info": {
   "codemirror_mode": {
    "name": "ipython",
    "version": 3
   },
   "file_extension": ".py",
   "mimetype": "text/x-python",
   "name": "python",
   "nbconvert_exporter": "python",
   "pygments_lexer": "ipython3",
   "version": "3.9.0"
  },
  "orig_nbformat": 4
 },
 "nbformat": 4,
 "nbformat_minor": 2
}
