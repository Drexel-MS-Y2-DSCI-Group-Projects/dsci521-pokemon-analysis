{
 "cells": [
  {
   "cell_type": "markdown",
   "metadata": {},
   "source": [
    "\n",
    "## Data from PokeAPI"
   ]
  },
  {
   "cell_type": "markdown",
   "metadata": {},
   "source": [
    "### Start by setting some reusable variables"
   ]
  },
  {
   "cell_type": "code",
   "execution_count": 1,
   "metadata": {},
   "outputs": [
    {
     "name": "stdout",
     "output_type": "stream",
     "text": [
      "There are currently 898 Pokemon species\n"
     ]
    }
   ],
   "source": [
    "import requests, json, os, collections\n",
    "# import pokebase as pb\n",
    "\n",
    "baseUrl = \"https://pokeapi.co/api/v2\"\n",
    "\n",
    "total = (requests.get(f\"{baseUrl}/pokemon-species?limit=1\").json())[\"count\"]\n",
    "\n",
    "print(f\"There are currently {total} Pokemon species\")\n",
    "\n",
    "limit = 999"
   ]
  },
  {
   "cell_type": "markdown",
   "metadata": {},
   "source": [
    "### Pull out and store all the Pokemon data we need\n",
    "\n",
    "This way, we can use the data later without calling the API again (avoid rate limiting)"
   ]
  },
  {
   "cell_type": "code",
   "execution_count": 2,
   "metadata": {},
   "outputs": [],
   "source": [
    "# recursive function to pull out all values from a nested dictionary\n",
    "def get_all_values(nested_dictionary):\n",
    "    value_list = []\n",
    "    for key, value in nested_dictionary.items():\n",
    "        if type(value) is dict:\n",
    "            value_list.extend(get_all_values(value))\n",
    "        elif type(value) is str:\n",
    "            value_list.append(value)\n",
    "    return value_list"
   ]
  },
  {
   "cell_type": "code",
   "execution_count": 3,
   "metadata": {},
   "outputs": [],
   "source": [
    "# Function to pull all out and store all necessary pokemon data\n",
    "def get_pokemon_data(baseUrl, limit):\n",
    "    pokemon_species = requests.get(f\"{baseUrl}/pokemon-species?limit={limit}\").json()\n",
    "\n",
    "    pokemon_data = {}\n",
    "\n",
    "    for poke in pokemon_species[\"results\"]:\n",
    "        species_response = requests.get(poke[\"url\"]).json()\n",
    "        dex_num = species_response[\"id\"]\n",
    "        # print(dex_num)\n",
    "        \n",
    "        pokemon_response = requests.get(f\"{baseUrl}/pokemon/{dex_num}\").json()\n",
    "\n",
    "        ### grabbing all sprite images from the API response ###\n",
    "        sprites = get_all_values(pokemon_response[\"sprites\"]) # need to recurse through the sprite objects to pull out all the image urls\n",
    "\n",
    "        ### grabbing the typings from the API response\n",
    "        typing = []\n",
    "        for poke_type in pokemon_response[\"types\"]:\n",
    "            typing.append(poke_type[\"type\"][\"name\"])\n",
    "\n",
    "        if (dex_num < 10):\n",
    "            dex_num = '00' + str(dex_num)\n",
    "        elif (dex_num < 100):\n",
    "            dex_num = '0' + str(dex_num)\n",
    "        else: dex_num = str(dex_num)\n",
    "\n",
    "        # try to get color name\n",
    "        try:\n",
    "            color = species_response[\"color\"][\"name\"]\n",
    "        except Exception as e:\n",
    "            color = None\n",
    "\n",
    "        # try to get shape name\n",
    "        try:\n",
    "            shape = species_response[\"shape\"][\"name\"]\n",
    "        except Exception as e:\n",
    "            shape = None\n",
    "\n",
    "        ## set up Pokemon object\n",
    "        pokemon = {\n",
    "            \"name\": species_response[\"name\"],\n",
    "            \"color\": color,\n",
    "            \"shape\": shape,\n",
    "            \"sprites\": sprites,\n",
    "            \"types\": typing\n",
    "        }\n",
    "\n",
    "        pokemon_data[dex_num] = pokemon\n",
    "\n",
    "    items = sorted(pokemon_data.items()) # sort the pokemon by dex number\n",
    "    ordered_data = collections.OrderedDict(items)\n",
    "\n",
    "    return ordered_data"
   ]
  },
  {
   "cell_type": "code",
   "execution_count": 4,
   "metadata": {},
   "outputs": [],
   "source": [
    "# Gather the data and place it into a JSON for use later\n",
    "get_new_data = True\n",
    "\n",
    "if os.path.exists(\"./data/detailed_pokemon_species.json\") and get_new_data == False:\n",
    "    detailed_pokemon_data = json.load(open(\"./data/detailed_pokemon_species.json\"))\n",
    "else:\n",
    "    detailed_pokemon_data = get_pokemon_data(baseUrl, limit)\n",
    "    # save the data to disk\n",
    "    prefix = os.environ.get('poke-prefix', './')\n",
    "    with open(f\"{prefix}data/detailed_pokemon_species.json\", \"w\") as f:\n",
    "        f.write(json.dumps(detailed_pokemon_data))"
   ]
  }
 ],
 "metadata": {
  "interpreter": {
   "hash": "c6ec318a6cd4aee9d1fd439759fcaa63b744a90ad174a7f8466a8728f361e811"
  },
  "kernelspec": {
   "display_name": "Python 3 (ipykernel)",
   "language": "python",
   "name": "python3"
  },
  "language_info": {
   "codemirror_mode": {
    "name": "ipython",
    "version": 3
   },
   "file_extension": ".py",
   "mimetype": "text/x-python",
   "name": "python",
   "nbconvert_exporter": "python",
   "pygments_lexer": "ipython3",
   "version": "3.9.7"
  }
 },
 "nbformat": 4,
 "nbformat_minor": 2
}
