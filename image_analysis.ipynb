{
 "cells": [
  {
   "cell_type": "markdown",
   "id": "359b5602-cdee-434e-924b-b437e70196ff",
   "metadata": {},
   "source": [
    "## Image Data Analysis"
   ]
  },
  {
   "cell_type": "markdown",
   "id": "89a08365",
   "metadata": {},
   "source": [
    "### Read example image with cv2"
   ]
  },
  {
   "cell_type": "code",
   "execution_count": 5,
   "id": "53143d4d",
   "metadata": {},
   "outputs": [],
   "source": [
    "from cv2 import imdecode, IMREAD_UNCHANGED\n",
    "import json\n",
    "import requests\n",
    "import numpy as np\n",
    "\n",
    "all_data = json.load(open('./merged.json'))\n",
    "\n",
    "def get_image_data(img_url):\n",
    "    get_image = requests.get(img_url, stream=True)\n",
    "    raw_image_data = get_image.raw\n",
    "    image_array = np.asarray(bytearray(raw_image_data.read()), dtype=\"uint8\")\n",
    "    image_data = imdecode(image_array, IMREAD_UNCHANGED)\n",
    "    return image_data\n"
   ]
  },
  {
   "cell_type": "code",
   "execution_count": 6,
   "id": "5bbfed56",
   "metadata": {},
   "outputs": [
    {
     "data": {
      "text/plain": [
       "(120, 120, 4)"
      ]
     },
     "execution_count": 6,
     "metadata": {},
     "output_type": "execute_result"
    }
   ],
   "source": [
    "height, width, num_channels = get_image_data(all_data['001']['sprites'][0]).shape\n",
    "(height, width, num_channels)"
   ]
  },
  {
   "cell_type": "code",
   "execution_count": 85,
   "id": "0d69d434",
   "metadata": {},
   "outputs": [],
   "source": [
    "from urllib.parse import urlparse\n",
    "from tqdm import tqdm\n",
    "\n",
    "bad_eggs = {}\n",
    "\n",
    "def apply_transformation(data):\n",
    "    try:\n",
    "        res = json.load(open('./post_transformation.json'))\n",
    "    except Exception:\n",
    "        res = {}\n",
    "    for ndex in tqdm(list(data.keys())[10:]):\n",
    "        # print(f'running {ndex}')\n",
    "        if res.get(ndex) is None:\n",
    "            res[ndex] = data[ndex].copy()\n",
    "            res[ndex]['sprites'] = {}\n",
    "        sprites = data[ndex]['sprites']\n",
    "        for sprite_url in sprites[-70:]:\n",
    "            # print(sprite_url)\n",
    "            if sprite_url not in res[ndex]['sprites']:\n",
    "                # print(f'fetching {sprite_url}')\n",
    "                try:\n",
    "                    image_data = get_image_data(sprite_url)\n",
    "                    ext = sprite_url.split('.')[-1].lower().strip()\n",
    "                    if ((image_data is None) or (image_data.shape is None)):\n",
    "                        height = width = num_channels = 'inf'\n",
    "                    else:\n",
    "                        height, width, *rest = image_data.shape\n",
    "                        num_channels = rest[0] if rest else 0\n",
    "                    res[ndex]['sprites'][sprite_url] = {\n",
    "                        # 'url': sprite_url,\n",
    "                        'height': height,\n",
    "                        'width': width,\n",
    "                        'num_channels': num_channels,\n",
    "                        'ext': ext,\n",
    "                        'domain': urlparse(sprite_url).netloc\n",
    "                    }\n",
    "                except Exception as e:\n",
    "                    bad_eggs[sprite_url] = (ndex, sprite_url, str(e))\n",
    "            else:\n",
    "                pass\n",
    "                # print(f'skipping {sprite_url}')\n",
    "    return res\n",
    "    "
   ]
  },
  {
   "cell_type": "code",
   "execution_count": null,
   "id": "e03cd111",
   "metadata": {},
   "outputs": [
    {
     "name": "stderr",
     "output_type": "stream",
     "text": [
      "  1%|█                                                                              | 12/895 [02:11<2:43:01, 11.08s/it]"
     ]
    }
   ],
   "source": [
    "updated_image_data = apply_transformation(all_data)\n",
    "json.dump(updated_image_data, open('post_transformation.json', 'w'), indent=4)"
   ]
  },
  {
   "cell_type": "code",
   "execution_count": 77,
   "id": "23a001b4",
   "metadata": {},
   "outputs": [],
   "source": [
    "from collections import Counter\n",
    "\n",
    "import pandas as pd\n",
    "import numpy as np\n",
    "\n",
    "domain_counter = Counter()\n",
    "ext_counter = Counter()\n",
    "w_h = []\n",
    "num_channel_counter = Counter()\n",
    "\n",
    "for ndex in list(updated_image_data.keys())[:4]:\n",
    "    pokemon_data = updated_image_data[ndex]\n",
    "    for url in pokemon_data['sprites'].keys():\n",
    "        sprite = pokemon_data['sprites'][url]\n",
    "        w_h.append([sprite['height'], sprite['width'], sprite['domain']])\n",
    "        domain_counter[sprite['domain']] += 1\n",
    "        ext_counter[sprite['ext']] += 1\n",
    "        num_channel_counter[str(sprite['num_channels'])] += 1\n",
    "\n",
    "size_df = pd.DataFrame(data=w_h, columns=['height', 'width', 'domain'])\n",
    "size_df = size_df.replace(to_replace='inf', value=np.nan).dropna()"
   ]
  },
  {
   "cell_type": "code",
   "execution_count": 78,
   "id": "f212300a",
   "metadata": {},
   "outputs": [
    {
     "data": {
      "image/png": "[encoded data removed]",
      "text/plain": [
       "<Figure size 432x288 with 1 Axes>"
      ]
     },
     "metadata": {
      "needs_background": "light"
     },
     "output_type": "display_data"
    }
   ],
   "source": [
    "import matplotlib.pyplot as plt\n",
    "\n",
    "plt.title('Image count by domain')\n",
    "plt.xlabel('domain')\n",
    "plt.ylabel('number of images')\n",
    "for domain, count in domain_counter.items():\n",
    "    plt.bar(domain, count)\n"
   ]
  },
  {
   "cell_type": "code",
   "execution_count": 79,
   "id": "ad73cada",
   "metadata": {},
   "outputs": [
    {
     "data": {
      "image/png": "[encoded data removed]",
      "text/plain": [
       "<Figure size 432x288 with 1 Axes>"
      ]
     },
     "metadata": {
      "needs_background": "light"
     },
     "output_type": "display_data"
    }
   ],
   "source": [
    "plt.title('Image count by file extenstion')\n",
    "plt.xlabel('file extension')\n",
    "plt.ylabel('number of images')\n",
    "for ext, count in ext_counter.items():\n",
    "    plt.bar(ext, count)"
   ]
  },
  {
   "cell_type": "code",
   "execution_count": 80,
   "id": "4ae20209-8ad8-4073-8007-3adc686be4cc",
   "metadata": {},
   "outputs": [
    {
     "data": {
      "text/plain": [
       "<matplotlib.collections.PathCollection at 0x272fa973ca0>"
      ]
     },
     "execution_count": 80,
     "metadata": {},
     "output_type": "execute_result"
    },
    {
     "data": {
      "image/png": "[encoded data removed]",
      "text/plain": [
       "<Figure size 432x288 with 1 Axes>"
      ]
     },
     "metadata": {
      "needs_background": "light"
     },
     "output_type": "display_data"
    }
   ],
   "source": [
    "color_map = {'archives.bulbagarden.net': 'red', 'raw.githubusercontent.com': 'green'}\n",
    "color = [color_map[item] for item in size_df['domain']]\n",
    "plt.title('Image size')\n",
    "plt.xlabel('width')\n",
    "plt.ylabel('height')\n",
    "plt.scatter(size_df['height'], size_df['width'], marker='.', c=color)"
   ]
  },
  {
   "cell_type": "code",
   "execution_count": 81,
   "id": "88543751-502f-4bff-a40e-2bbbc1c13bd2",
   "metadata": {},
   "outputs": [
    {
     "data": {
      "image/png": "[encoded data removed]",
      "text/plain": [
       "<Figure size 432x288 with 1 Axes>"
      ]
     },
     "metadata": {
      "needs_background": "light"
     },
     "output_type": "display_data"
    }
   ],
   "source": [
    "plt.title('Image channels')\n",
    "plt.xlabel('number of channels')\n",
    "plt.ylabel('number of images')\n",
    "for ext, count in num_channel_counter.items():\n",
    "    plt.bar(ext, count)"
   ]
  }
 ],
 "metadata": {
  "interpreter": {
   "hash": "cf9cd4f5c2b0894d510c4f288c44c6bfc97e76d9713b614fd0fdd101750ab4fb"
  },
  "kernelspec": {
   "display_name": "Python 3 (ipykernel)",
   "language": "python",
   "name": "python3"
  },
  "language_info": {
   "codemirror_mode": {
    "name": "ipython",
    "version": 3
   },
   "file_extension": ".py",
   "mimetype": "text/x-python",
   "name": "python",
   "nbconvert_exporter": "python",
   "pygments_lexer": "ipython3",
   "version": "3.9.2"
  }
 },
 "nbformat": 4,
 "nbformat_minor": 5
}
