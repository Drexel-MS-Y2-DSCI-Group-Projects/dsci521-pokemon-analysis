{
 "cells": [
  {
   "cell_type": "markdown",
   "id": "359b5602-cdee-434e-924b-b437e70196ff",
   "metadata": {},
   "source": [
    "## Image Data Analysis"
   ]
  },
  {
   "cell_type": "markdown",
   "id": "89a08365",
   "metadata": {},
   "source": [
    "### Read example image with cv2"
   ]
  },
  {
   "cell_type": "code",
   "execution_count": 191,
   "id": "53143d4d",
   "metadata": {},
   "outputs": [],
   "source": [
    "from cv2 import imdecode, IMREAD_UNCHANGED\n",
    "import json\n",
    "import requests\n",
    "import numpy as np\n",
    "\n",
    "all_data = json.load(open('./merged.json'))\n",
    "\n",
    "def get_image_data(img_url):\n",
    "    get_image = requests.get(img_url, stream=True)\n",
    "    raw_image_data = get_image.raw\n",
    "    image_array = np.asarray(bytearray(raw_image_data.read()), dtype=\"uint8\")\n",
    "    image_data = imdecode(image_array, IMREAD_UNCHANGED)\n",
    "    return image_data\n"
   ]
  },
  {
   "cell_type": "code",
   "execution_count": 192,
   "id": "5bbfed56",
   "metadata": {},
   "outputs": [
    {
     "data": {
      "text/plain": [
       "(120, 120, 3)"
      ]
     },
     "execution_count": 192,
     "metadata": {},
     "output_type": "execute_result"
    }
   ],
   "source": [
    "height, width, num_channels = get_image_data(all_data['001']['sprites'][0]).shape\n",
    "(height, width, num_channels)"
   ]
  },
  {
   "cell_type": "code",
   "execution_count": 193,
   "id": "0d69d434",
   "metadata": {},
   "outputs": [],
   "source": [
    "from urllib.parse import urlparse\n",
    "\n",
    "def apply_transformation(data):\n",
    "    try:\n",
    "        res = json.load(open('./post_transformation.json'))\n",
    "    except Exception:\n",
    "        res = {}\n",
    "    for ndex in list(data.keys())[:6]:\n",
    "        res[ndex] = data[ndex].copy()\n",
    "        sprites = data[ndex]['sprites']\n",
    "        sprites_with_metadata = {}\n",
    "        for sprite_url in list(sprites)[:4]:\n",
    "            if sprite_url not in res.get(ndex, {}).get('sprites', {}):\n",
    "                print(f'fetching {sprite_url}')\n",
    "                try:\n",
    "                    image_data = get_image_data(sprite_url)\n",
    "                    ext = sprite_url.split('.')[-1].lower().strip()\n",
    "                    if ((image_data is None) or (image_data.shape is None)):\n",
    "                        print(f'found svg for {ndex}:{sprite_url}')\n",
    "                        height = width = num_channels = 'inf'\n",
    "                    else:\n",
    "                        height, width, *rest = image_data.shape\n",
    "                        num_channels = rest[0] if rest else 0\n",
    "                    res[ndex]['sprites'][sprite_url] = {\n",
    "                        # 'url': sprite_url,\n",
    "                        'height': height,\n",
    "                        'width': width,\n",
    "                        'num_channels': num_channels,\n",
    "                        'ext': ext,\n",
    "                        'domain': urlparse(sprite_url).netloc\n",
    "                    }\n",
    "                except Exception as e:\n",
    "                    print(f'error capturing {ndex}:{sprite_url}')\n",
    "                    print(e)\n",
    "            else:\n",
    "                print(f'skipping {sprite_url}')\n",
    "        # res[ndex]['sprites'] = sprites_with_metadata\n",
    "    return res\n",
    "    "
   ]
  },
  {
   "cell_type": "code",
   "execution_count": 194,
   "id": "e03cd111",
   "metadata": {},
   "outputs": [
    {
     "name": "stdout",
     "output_type": "stream",
     "text": [
      "skipping https://archives.bulbagarden.net/media/upload/thumb/4/48/Build-A-Bear_PokemonPartyTShirt.png/120px-Build-A-Bear_PokemonPartyTShirt.png\n",
      "skipping https://archives.bulbagarden.net/media/upload/3/38/Spr_b_2c_001_s.png\n",
      "skipping https://archives.bulbagarden.net/media/upload/b/b6/Spr_1y_001.png\n",
      "skipping https://archives.bulbagarden.net/media/upload/7/75/001_s.png\n",
      "skipping https://archives.bulbagarden.net/media/upload/thumb/1/11/Ivysaur_04_018.png/120px-Ivysaur_04_018.png\n",
      "skipping https://archives.bulbagarden.net/media/upload/d/dd/Menu_Colo_002.png\n",
      "skipping https://archives.bulbagarden.net/media/upload/thumb/c/c1/002Ivysaur_RB.png/120px-002Ivysaur_RB.png\n",
      "skipping https://archives.bulbagarden.net/media/upload/thumb/e/e4/Spr_b_7s_002_s.png/120px-Spr_b_7s_002_s.png\n",
      "skipping https://archives.bulbagarden.net/media/upload/thumb/9/97/Bandai_Jumbo4_Stickers.jpg/120px-Bandai_Jumbo4_Stickers.jpg\n",
      "skipping https://archives.bulbagarden.net/media/upload/6/60/Spr_b_4d_003_m.png\n",
      "skipping https://archives.bulbagarden.net/media/upload/thumb/8/84/Corey_Venusaur_M20_Razor_Leaf.png/120px-Corey_Venusaur_M20_Razor_Leaf.png\n",
      "skipping https://archives.bulbagarden.net/media/upload/f/f2/Spr_3f_003_s.png\n",
      "skipping https://archives.bulbagarden.net/media/upload/2/2b/Spr_2s_004.png\n",
      "skipping https://archives.bulbagarden.net/media/upload/thumb/7/7f/Ash_Charmander_Ember.png/120px-Ash_Charmander_Ember.png\n",
      "skipping https://archives.bulbagarden.net/media/upload/0/0a/Spr_5b_004.png\n",
      "skipping https://archives.bulbagarden.net/media/upload/7/75/Spr_4h_004_s.png\n",
      "skipping https://archives.bulbagarden.net/media/upload/thumb/7/73/CharmeleonToHaveSeentheBattleRainbow10.jpg/86px-CharmeleonToHaveSeentheBattleRainbow10.jpg\n",
      "skipping https://archives.bulbagarden.net/media/upload/e/e5/Spr_b_3r_005.png\n",
      "skipping https://archives.bulbagarden.net/media/upload/thumb/d/dd/How_I_Became_a_Pok%C3%A9mon_Card_volume_1.png/85px-How_I_Became_a_Pok%C3%A9mon_Card_volume_1.png\n",
      "skipping https://archives.bulbagarden.net/media/upload/thumb/6/60/Jimmy_Charmeleon.png/120px-Jimmy_Charmeleon.png\n",
      "skipping https://archives.bulbagarden.net/media/upload/e/e1/Spr_5b_006.png\n",
      "skipping https://archives.bulbagarden.net/media/upload/thumb/7/7e/006Charizard.png/120px-006Charizard.png\n",
      "skipping https://archives.bulbagarden.net/media/upload/thumb/6/6f/Spr_6x_006MX.png/120px-Spr_6x_006MX.png\n",
      "skipping https://archives.bulbagarden.net/media/upload/thumb/4/46/AFUbook.png/81px-AFUbook.png\n"
     ]
    }
   ],
   "source": [
    "updated_image_data = apply_transformation(all_data)\n",
    "json.dump(updated_image_data, open('post_transformation.json', 'w'), indent=4)"
   ]
  },
  {
   "cell_type": "code",
   "execution_count": 190,
   "id": "23a001b4",
   "metadata": {},
   "outputs": [
    {
     "ename": "TypeError",
     "evalue": "string indices must be integers",
     "output_type": "error",
     "traceback": [
      "\u001b[1;31m---------------------------------------------------------------------------\u001b[0m",
      "\u001b[1;31mTypeError\u001b[0m                                 Traceback (most recent call last)",
      "\u001b[1;32m~\\AppData\\Local\\Temp/ipykernel_13844/406950758.py\u001b[0m in \u001b[0;36m<module>\u001b[1;34m\u001b[0m\n\u001b[0;32m      7\u001b[0m     \u001b[0mpokemon_data\u001b[0m \u001b[1;33m=\u001b[0m \u001b[0mupdated_image_data\u001b[0m\u001b[1;33m[\u001b[0m\u001b[0mndex\u001b[0m\u001b[1;33m]\u001b[0m\u001b[1;33m\u001b[0m\u001b[1;33m\u001b[0m\u001b[0m\n\u001b[0;32m      8\u001b[0m     \u001b[1;32mfor\u001b[0m \u001b[0msprite\u001b[0m \u001b[1;32min\u001b[0m \u001b[0mpokemon_data\u001b[0m\u001b[1;33m[\u001b[0m\u001b[1;34m'sprites'\u001b[0m\u001b[1;33m]\u001b[0m\u001b[1;33m:\u001b[0m\u001b[1;33m\u001b[0m\u001b[1;33m\u001b[0m\u001b[0m\n\u001b[1;32m----> 9\u001b[1;33m         \u001b[0mdomain_counter\u001b[0m\u001b[1;33m[\u001b[0m\u001b[0msprite\u001b[0m\u001b[1;33m[\u001b[0m\u001b[1;34m'domain'\u001b[0m\u001b[1;33m]\u001b[0m\u001b[1;33m]\u001b[0m \u001b[1;33m+=\u001b[0m \u001b[1;36m1\u001b[0m\u001b[1;33m\u001b[0m\u001b[1;33m\u001b[0m\u001b[0m\n\u001b[0m\u001b[0;32m     10\u001b[0m         \u001b[0mext_counter\u001b[0m\u001b[1;33m[\u001b[0m\u001b[0msprite\u001b[0m\u001b[1;33m[\u001b[0m\u001b[1;34m'ext'\u001b[0m\u001b[1;33m]\u001b[0m\u001b[1;33m]\u001b[0m \u001b[1;33m+=\u001b[0m \u001b[1;36m1\u001b[0m\u001b[1;33m\u001b[0m\u001b[1;33m\u001b[0m\u001b[0m\n\u001b[0;32m     11\u001b[0m \u001b[1;33m\u001b[0m\u001b[0m\n",
      "\u001b[1;31mTypeError\u001b[0m: string indices must be integers"
     ]
    }
   ],
   "source": [
    "from collections import Counter\n",
    "\n",
    "domain_counter = Counter()\n",
    "ext_counter = Counter()\n",
    "\n",
    "for ndex in list(updated_image_data.keys())[:4]:\n",
    "    pokemon_data = updated_image_data[ndex]\n",
    "    for sprite in pokemon_data['sprites']:\n",
    "        domain_counter[sprite['domain']] += 1\n",
    "        ext_counter[sprite['ext']] += 1\n",
    "\n",
    "print(domain_counter)\n",
    "print(ext_counter)"
   ]
  },
  {
   "cell_type": "code",
   "execution_count": 54,
   "id": "f212300a",
   "metadata": {},
   "outputs": [
    {
     "data": {
      "image/png": "[encoded data removed]",
      "text/plain": [
       "<Figure size 432x288 with 1 Axes>"
      ]
     },
     "metadata": {
      "needs_background": "light"
     },
     "output_type": "display_data"
    }
   ],
   "source": [
    "import matplotlib.pyplot as plt\n",
    "\n",
    "plt.title('Image count by domain')\n",
    "plt.xlabel('domain')\n",
    "plt.ylabel('number of images')\n",
    "for domain, count in domain_counter.items():\n",
    "    plt.bar(domain, count)\n"
   ]
  },
  {
   "cell_type": "code",
   "execution_count": 55,
   "id": "ad73cada",
   "metadata": {},
   "outputs": [
    {
     "data": {
      "image/png": "[encoded data removed]",
      "text/plain": [
       "<Figure size 432x288 with 1 Axes>"
      ]
     },
     "metadata": {
      "needs_background": "light"
     },
     "output_type": "display_data"
    }
   ],
   "source": [
    "plt.title('Image count by file extenstion')\n",
    "plt.xlabel('file extension')\n",
    "plt.ylabel('number of images')\n",
    "for ext, count in ext_counter.items():\n",
    "    plt.bar(ext, count)"
   ]
  },
  {
   "cell_type": "code",
   "execution_count": null,
   "id": "95026191",
   "metadata": {},
   "outputs": [],
   "source": []
  }
 ],
 "metadata": {
  "interpreter": {
   "hash": "cf9cd4f5c2b0894d510c4f288c44c6bfc97e76d9713b614fd0fdd101750ab4fb"
  },
  "kernelspec": {
   "display_name": "Python 3.9.2 64-bit",
   "language": "python",
   "name": "python3"
  },
  "language_info": {
   "codemirror_mode": {
    "name": "ipython",
    "version": 3
   },
   "file_extension": ".py",
   "mimetype": "text/x-python",
   "name": "python",
   "nbconvert_exporter": "python",
   "pygments_lexer": "ipython3",
   "version": "3.9.2"
  }
 },
 "nbformat": 4,
 "nbformat_minor": 5
}
