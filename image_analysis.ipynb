{
 "cells": [
  {
   "cell_type": "markdown",
   "id": "359b5602-cdee-434e-924b-b437e70196ff",
   "metadata": {},
   "source": [
    "## Image Data Analysis"
   ]
  },
  {
   "cell_type": "markdown",
   "id": "89a08365",
   "metadata": {},
   "source": [
    "### Read example image with cv2"
   ]
  },
  {
   "cell_type": "code",
   "execution_count": 26,
   "id": "53143d4d",
   "metadata": {},
   "outputs": [],
   "source": [
    "from cv2 import imdecode, IMREAD_UNCHANGED, imshow, waitKey, destroyAllWindows, imwrite\n",
    "import json\n",
    "import requests\n",
    "import numpy as np\n",
    "\n",
    "all_data = json.load(open('./merged.json'))\n",
    "\n",
    "def get_image_data(img_url):\n",
    "    print(f'GET {ndex_num}:{img_url}')\n",
    "    raw_image_data = requests.get(img_url, stream=True).raw\n",
    "    image_array = np.asarray(bytearray(raw_image_data.read()), dtype=\"uint8\")\n",
    "    image_data = imdecode(image_array, IMREAD_UNCHANGED)\n",
    "    ext = img_url.split('.')[-1].lower().strip()\n",
    "    return image_data.shape\n"
   ]
  },
  {
   "cell_type": "code",
   "execution_count": 27,
   "id": "5bbfed56",
   "metadata": {},
   "outputs": [
    {
     "name": "stdout",
     "output_type": "stream",
     "text": [
      "GET 001:https://archives.bulbagarden.net/media/upload/thumb/4/48/Build-A-Bear_PokemonPartyTShirt.png/120px-Build-A-Bear_PokemonPartyTShirt.png\n"
     ]
    },
    {
     "data": {
      "text/plain": [
       "(120, 120, 3)"
      ]
     },
     "execution_count": 27,
     "metadata": {},
     "output_type": "execute_result"
    }
   ],
   "source": [
    "height, width, num_channels = get_image_data(all_data['001']['sprites'][0])\n",
    "(height, width, num_channels)"
   ]
  },
  {
   "cell_type": "code",
   "execution_count": 29,
   "id": "0d69d434",
   "metadata": {},
   "outputs": [
    {
     "name": "stdout",
     "output_type": "stream",
     "text": [
      "GET 001:https://archives.bulbagarden.net/media/upload/thumb/4/48/Build-A-Bear_PokemonPartyTShirt.png/120px-Build-A-Bear_PokemonPartyTShirt.png\n",
      "(120, 120, 3)\n",
      "GET 001:https://archives.bulbagarden.net/media/upload/3/38/Spr_b_2c_001_s.png\n",
      "(56, 56, 4)\n",
      "GET 001:https://archives.bulbagarden.net/media/upload/b/b6/Spr_1y_001.png\n",
      "(56, 56, 4)\n",
      "GET 001:https://archives.bulbagarden.net/media/upload/7/75/001_s.png\n",
      "(96, 96, 4)\n",
      "GET 001:https://archives.bulbagarden.net/media/upload/e/ee/001MSStad.png\n",
      "(40, 40, 4)\n",
      "GET 001:https://archives.bulbagarden.net/media/upload/thumb/1/11/Ivysaur_04_018.png/120px-Ivysaur_04_018.png\n",
      "(120, 120, 4)\n",
      "GET 001:https://archives.bulbagarden.net/media/upload/d/dd/Menu_Colo_002.png\n",
      "(44, 44, 4)\n",
      "GET 001:https://archives.bulbagarden.net/media/upload/thumb/c/c1/002Ivysaur_RB.png/120px-002Ivysaur_RB.png\n",
      "(109, 120, 4)\n",
      "GET 001:https://archives.bulbagarden.net/media/upload/thumb/e/e4/Spr_b_7s_002_s.png/120px-Spr_b_7s_002_s.png\n",
      "(120, 120, 4)\n",
      "GET 001:https://archives.bulbagarden.net/media/upload/thumb/f/fe/Spr_7s_002.png/120px-Spr_7s_002.png\n",
      "(120, 120, 4)\n",
      "GET 001:https://archives.bulbagarden.net/media/upload/thumb/9/97/Bandai_Jumbo4_Stickers.jpg/120px-Bandai_Jumbo4_Stickers.jpg\n",
      "(85, 120, 3)\n",
      "GET 001:https://archives.bulbagarden.net/media/upload/6/60/Spr_b_4d_003_m.png\n",
      "(80, 80, 4)\n",
      "GET 001:https://archives.bulbagarden.net/media/upload/thumb/8/84/Corey_Venusaur_M20_Razor_Leaf.png/120px-Corey_Venusaur_M20_Razor_Leaf.png\n",
      "(68, 120, 4)\n",
      "GET 001:https://archives.bulbagarden.net/media/upload/f/f2/Spr_3f_003_s.png\n",
      "(64, 64, 4)\n",
      "GET 001:https://archives.bulbagarden.net/media/upload/thumb/e/e3/Ash_Heracross_Tackle.png/120px-Ash_Heracross_Tackle.png\n",
      "(90, 120, 4)\n"
     ]
    }
   ],
   "source": [
    "for ndex in list(all_data.keys())[:3]:\n",
    "    sprites = all_data[ndex]['sprites']\n",
    "    for sprite_url in sprites[:5]:\n",
    "        print(get_image_data(sprite_url))"
   ]
  },
  {
   "cell_type": "code",
   "execution_count": null,
   "id": "e03cd111",
   "metadata": {},
   "outputs": [],
   "source": []
  }
 ],
 "metadata": {
  "interpreter": {
   "hash": "cf9cd4f5c2b0894d510c4f288c44c6bfc97e76d9713b614fd0fdd101750ab4fb"
  },
  "kernelspec": {
   "display_name": "Python 3.9.2 64-bit",
   "language": "python",
   "name": "python3"
  },
  "language_info": {
   "codemirror_mode": {
    "name": "ipython",
    "version": 3
   },
   "file_extension": ".py",
   "mimetype": "text/x-python",
   "name": "python",
   "nbconvert_exporter": "python",
   "pygments_lexer": "ipython3",
   "version": "3.9.2"
  }
 },
 "nbformat": 4,
 "nbformat_minor": 5
}
