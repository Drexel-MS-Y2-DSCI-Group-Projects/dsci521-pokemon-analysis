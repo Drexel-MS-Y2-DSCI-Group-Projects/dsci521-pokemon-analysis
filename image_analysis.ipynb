{
 "cells": [
  {
   "cell_type": "markdown",
   "id": "359b5602-cdee-434e-924b-b437e70196ff",
   "metadata": {},
   "source": [
    "## Image Data Analysis"
   ]
  },
  {
   "cell_type": "markdown",
   "id": "89a08365",
   "metadata": {},
   "source": [
    "### Read example image with cv2"
   ]
  },
  {
   "cell_type": "code",
   "execution_count": 1,
   "id": "53143d4d",
   "metadata": {},
   "outputs": [],
   "source": [
    "from cv2 import imdecode, IMREAD_UNCHANGED\n",
    "import json\n",
    "import requests\n",
    "import numpy as np\n",
    "\n",
    "all_data = json.load(open('./merged.json'))\n",
    "\n",
    "def get_image_data(img_url):\n",
    "    get_image = requests.get(img_url, stream=True)\n",
    "    raw_image_data = get_image.raw\n",
    "    image_array = np.asarray(bytearray(raw_image_data.read()), dtype=\"uint8\")\n",
    "    image_data = imdecode(image_array, IMREAD_UNCHANGED)\n",
    "    return image_data\n"
   ]
  },
  {
   "cell_type": "code",
   "execution_count": 2,
   "id": "5bbfed56",
   "metadata": {},
   "outputs": [
    {
     "data": {
      "text/plain": [
       "(120, 120, 3)"
      ]
     },
     "execution_count": 2,
     "metadata": {},
     "output_type": "execute_result"
    }
   ],
   "source": [
    "height, width, num_channels = get_image_data(all_data['001']['sprites'][0]).shape\n",
    "(height, width, num_channels)"
   ]
  },
  {
   "cell_type": "code",
   "execution_count": 18,
   "id": "0d69d434",
   "metadata": {},
   "outputs": [],
   "source": [
    "from urllib.parse import urlparse\n",
    "from tqdm import tqdm\n",
    "\n",
    "def apply_transformation(data):\n",
    "    try:\n",
    "        res = json.load(open('./post_transformation.json'))\n",
    "    except Exception:\n",
    "        res = {}\n",
    "    for ndex in tqdm(list(data.keys())[:150]):\n",
    "        if res.get(ndex) is None:\n",
    "            res[ndex] = data[ndex].copy()\n",
    "            res[ndex]['sprites'] = {}\n",
    "        sprites = data[ndex]['sprites']\n",
    "        for sprite_url in sprites[:-200]:\n",
    "            if sprite_url not in res[ndex]['sprites']:\n",
    "                # print(f'fetching {sprite_url}')\n",
    "                try:\n",
    "                    image_data = get_image_data(sprite_url)\n",
    "                    ext = sprite_url.split('.')[-1].lower().strip()\n",
    "                    if ((image_data is None) or (image_data.shape is None)):\n",
    "                        print(f'found no image data or shape is none for {ndex}:{sprite_url}')\n",
    "                        height = width = num_channels = 'inf'\n",
    "                    else:\n",
    "                        height, width, *rest = image_data.shape\n",
    "                        num_channels = rest[0] if rest else 0\n",
    "                    res[ndex]['sprites'][sprite_url] = {\n",
    "                        # 'url': sprite_url,\n",
    "                        'height': height,\n",
    "                        'width': width,\n",
    "                        'num_channels': num_channels,\n",
    "                        'ext': ext,\n",
    "                        'domain': urlparse(sprite_url).netloc\n",
    "                    }\n",
    "                except Exception as e:\n",
    "                    print(f'error capturing {ndex}:{sprite_url}')\n",
    "                    print(e)\n",
    "            else:\n",
    "                pass\n",
    "                # print(f'skipping {sprite_url}')\n",
    "    return res\n",
    "    "
   ]
  },
  {
   "cell_type": "code",
   "execution_count": 19,
   "id": "e03cd111",
   "metadata": {},
   "outputs": [
    {
     "name": "stderr",
     "output_type": "stream",
     "text": [
      " 47%|██████████████████████████████████████████████████████████████████████████████████▎                                                                                           | 71/150 [00:00<00:00, 687.02it/s]"
     ]
    },
    {
     "name": "stdout",
     "output_type": "stream",
     "text": [
      "error capturing 071:https://archives.bulbagarden.net/media/upload/thumb/4/43/Team_Rocket_party_Original_series.png/120px-Team_Rocket_party_Original_series.png\n",
      "OpenCV(4.5.5) D:\\a\\opencv-python\\opencv-python\\opencv\\modules\\imgcodecs\\src\\loadsave.cpp:816: error: (-215:Assertion failed) !buf.empty() in function 'cv::imdecode_'\n",
      "\n"
     ]
    },
    {
     "name": "stderr",
     "output_type": "stream",
     "text": [
      " 89%|███████████████████████████████████████████████████████████████████████████████████████████████████████████████████████████████████████████████████████████▍                  | 134/150 [09:28<04:08, 15.53s/it]"
     ]
    },
    {
     "name": "stdout",
     "output_type": "stream",
     "text": [
      "found no image data or shape is none for 135:https://archives.bulbagarden.net/media/upload/thumb/9/9f/Aeroblast_PMD_GTI_2.png/120px-Aeroblast_PMD_GTI_2.png\n"
     ]
    },
    {
     "name": "stderr",
     "output_type": "stream",
     "text": [
      " 95%|█████████████████████████████████████████████████████████████████████████████████████████████████████████████████████████████████████████████████████████████████████▉        | 143/150 [11:37<01:47, 15.43s/it]"
     ]
    },
    {
     "name": "stdout",
     "output_type": "stream",
     "text": [
      "found no image data or shape is none for 144:https://archives.bulbagarden.net/media/upload/thumb/d/dd/023257_P_FURIZA.jpg/86px-023257_P_FURIZA.jpg\n"
     ]
    },
    {
     "name": "stderr",
     "output_type": "stream",
     "text": [
      " 96%|███████████████████████████████████████████████████████████████████████████████████████████████████████████████████████████████████████████████████████████████████████       | 144/150 [11:53<01:33, 15.50s/it]"
     ]
    },
    {
     "name": "stdout",
     "output_type": "stream",
     "text": [
      "found no image data or shape is none for 145:https://archives.bulbagarden.net/media/upload/thumb/3/3f/GalarianZapdosVVMAXClimax237.jpg/86px-GalarianZapdosVVMAXClimax237.jpg\n"
     ]
    },
    {
     "name": "stderr",
     "output_type": "stream",
     "text": [
      " 97%|████████████████████████████████████████████████████████████████████████████████████████████████████████████████████████████████████████████████████████████████████████▏     | 145/150 [12:05<01:11, 14.28s/it]"
     ]
    },
    {
     "name": "stdout",
     "output_type": "stream",
     "text": [
      "found no image data or shape is none for 146:https://archives.bulbagarden.net/media/upload/thumb/e/ef/GalarianMoltresVVMAXClimax242.jpg/86px-GalarianMoltresVVMAXClimax242.jpg\n"
     ]
    },
    {
     "name": "stderr",
     "output_type": "stream",
     "text": [
      "100%|██████████████████████████████████████████████████████████████████████████████████████████████████████████████████████████████████████████████████████████████████████████████| 150/150 [13:17<00:00,  5.32s/it]\n"
     ]
    }
   ],
   "source": [
    "updated_image_data = apply_transformation(all_data)\n",
    "json.dump(updated_image_data, open('post_transformation.json', 'w'), indent=4)"
   ]
  },
  {
   "cell_type": "code",
   "execution_count": 39,
   "id": "23a001b4",
   "metadata": {},
   "outputs": [
    {
     "name": "stdout",
     "output_type": "stream",
     "text": [
      "Counter({'archives.bulbagarden.net': 800, 'raw.githubusercontent.com': 12})\n",
      "Counter({'png': 689, 'jpg': 122, 'svg': 1})\n",
      "     height  width\n",
      "0     120.0  120.0\n",
      "1      56.0   56.0\n",
      "2      56.0   56.0\n",
      "3      96.0   96.0\n",
      "4      40.0   40.0\n",
      "..      ...    ...\n",
      "807   108.0  120.0\n",
      "808   119.0   66.0\n",
      "809    68.0  120.0\n",
      "810    56.0   56.0\n",
      "811   120.0  120.0\n",
      "\n",
      "[810 rows x 2 columns]\n"
     ]
    }
   ],
   "source": [
    "from collections import Counter\n",
    "\n",
    "import pandas as pd\n",
    "import numpy as np\n",
    "\n",
    "domain_counter = Counter()\n",
    "ext_counter = Counter()\n",
    "heights = []\n",
    "widths = []\n",
    "w_h = []\n",
    "\n",
    "for ndex in list(updated_image_data.keys())[:4]:\n",
    "    pokemon_data = updated_image_data[ndex]\n",
    "    for url in pokemon_data['sprites'].keys():\n",
    "        sprite = pokemon_data['sprites'][url]\n",
    "        # heights.append(sprite['height'])\n",
    "        # widths.append(sprite['width'])\n",
    "        w_h.append([sprite['height'], sprite['width']])\n",
    "        domain_counter[sprite['domain']] += 1\n",
    "        ext_counter[sprite['ext']] += 1\n",
    "\n",
    "size_df = pd.DataFrame(data=w_h, columns=['height', 'width'])\n",
    "size_df = size_df.replace(to_replace='inf', value=np.nan).dropna()\n",
    "\n",
    "print(domain_counter)\n",
    "print(ext_counter)\n",
    "print(size_df)"
   ]
  },
  {
   "cell_type": "code",
   "execution_count": 21,
   "id": "f212300a",
   "metadata": {},
   "outputs": [
    {
     "data": {
      "image/png": "[encoded data removed]",
      "text/plain": [
       "<Figure size 432x288 with 1 Axes>"
      ]
     },
     "metadata": {
      "needs_background": "light"
     },
     "output_type": "display_data"
    }
   ],
   "source": [
    "import matplotlib.pyplot as plt\n",
    "\n",
    "plt.title('Image count by domain')\n",
    "plt.xlabel('domain')\n",
    "plt.ylabel('number of images')\n",
    "for domain, count in domain_counter.items():\n",
    "    plt.bar(domain, count)\n"
   ]
  },
  {
   "cell_type": "code",
   "execution_count": 22,
   "id": "ad73cada",
   "metadata": {},
   "outputs": [
    {
     "data": {
      "image/png": "[encoded data removed]",
      "text/plain": [
       "<Figure size 432x288 with 1 Axes>"
      ]
     },
     "metadata": {
      "needs_background": "light"
     },
     "output_type": "display_data"
    }
   ],
   "source": [
    "plt.title('Image count by file extenstion')\n",
    "plt.xlabel('file extension')\n",
    "plt.ylabel('number of images')\n",
    "for ext, count in ext_counter.items():\n",
    "    plt.bar(ext, count)"
   ]
  },
  {
   "cell_type": "code",
   "execution_count": 42,
   "id": "4ae20209-8ad8-4073-8007-3adc686be4cc",
   "metadata": {},
   "outputs": [
    {
     "data": {
      "text/plain": [
       "<matplotlib.collections.PathCollection at 0x2666cdb74f0>"
      ]
     },
     "execution_count": 42,
     "metadata": {},
     "output_type": "execute_result"
    },
    {
     "data": {
      "image/png": "[encoded data removed]",
      "text/plain": [
       "<Figure size 432x288 with 1 Axes>"
      ]
     },
     "metadata": {
      "needs_background": "light"
     },
     "output_type": "display_data"
    }
   ],
   "source": [
    "plt.title('Image size')\n",
    "plt.xlabel('width')\n",
    "plt.ylabel('height')\n",
    "plt.scatter(size_df['height'], size_df['width'], marker='.')"
   ]
  }
 ],
 "metadata": {
  "interpreter": {
   "hash": "cf9cd4f5c2b0894d510c4f288c44c6bfc97e76d9713b614fd0fdd101750ab4fb"
  },
  "kernelspec": {
   "display_name": "Python 3 (ipykernel)",
   "language": "python",
   "name": "python3"
  },
  "language_info": {
   "codemirror_mode": {
    "name": "ipython",
    "version": 3
   },
   "file_extension": ".py",
   "mimetype": "text/x-python",
   "name": "python",
   "nbconvert_exporter": "python",
   "pygments_lexer": "ipython3",
   "version": "3.9.2"
  }
 },
 "nbformat": 4,
 "nbformat_minor": 5
}
